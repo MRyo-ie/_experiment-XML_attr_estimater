{
 "cells": [
  {
   "cell_type": "code",
   "execution_count": 1,
   "metadata": {
    "cellView": "form",
    "executionInfo": {
     "elapsed": 7,
     "status": "ok",
     "timestamp": 1623835750631,
     "user": {
      "displayName": "Ryo Matsumoto",
      "photoUrl": "",
      "userId": "00383518770334198095"
     },
     "user_tz": -540
    },
    "id": "4rNKGq8Lt_si"
   },
   "outputs": [],
   "source": [
    "#@title Licensed under the Apache License, Version 2.0 (the \"License\");\n",
    "# you may not use this file except in compliance with the License.\n",
    "# You may obtain a copy of the License at\n",
    "#\n",
    "# https://www.apache.org/licenses/LICENSE-2.0\n",
    "#\n",
    "# Unless required by applicable law or agreed to in writing, software\n",
    "# distributed under the License is distributed on an \"AS IS\" BASIS,\n",
    "# WITHOUT WARRANTIES OR CONDITIONS OF ANY KIND, either express or implied.\n",
    "# See the License for the specific language governing permissions and\n",
    "# limitations under the License."
   ]
  },
  {
   "cell_type": "code",
   "execution_count": 2,
   "metadata": {
    "colab": {
     "base_uri": "https://localhost:8080/"
    },
    "executionInfo": {
     "elapsed": 110759,
     "status": "ok",
     "timestamp": 1623835861385,
     "user": {
      "displayName": "Ryo Matsumoto",
      "photoUrl": "",
      "userId": "00383518770334198095"
     },
     "user_tz": -540
    },
    "id": "gjzvTYsUmdRv",
    "outputId": "dda6fdac-84f9-4cd6-dd53-60a7294f3fb8"
   },
   "outputs": [
    {
     "name": "stdout",
     "output_type": "stream",
     "text": [
      "Mounted at /content/drive\n"
     ]
    }
   ],
   "source": [
    "# 自分の Google Drive をマウント\n",
    "# https://qiita.com/uni-3/items/201aaa2708260cc790b8#drive内のディレクトリをマウントする220180920\n",
    "from google.colab import drive\n",
    "import os\n",
    "drive.mount('/content/drive')\n",
    "\n",
    "#@markdown ## 【データを保存するGoogleDriveのパス】\n",
    "#@markdown ### GitHubリポジトリをcloneするパス\n",
    "REPOSITORY_PEARENT_DIR = '/content/drive/My Drive/__datasets__/[CV][NLP]\\u300C\\u30BB\\u30F3\\u30BF\\u30FC\\u8A66\\u9A13xml\\u300D/annotate_img/datas/attribute/Experiment' #@param {type: \"string\"}\n",
    "os.chdir(REPOSITORY_PEARENT_DIR)"
   ]
  },
  {
   "cell_type": "markdown",
   "metadata": {
    "id": "9TnJztDZGw-n"
   },
   "source": [
    "# RNN を使ったテキスト分類"
   ]
  },
  {
   "cell_type": "code",
   "execution_count": 3,
   "metadata": {
    "colab": {
     "base_uri": "https://localhost:8080/"
    },
    "executionInfo": {
     "elapsed": 6783,
     "status": "ok",
     "timestamp": 1623835868156,
     "user": {
      "displayName": "Ryo Matsumoto",
      "photoUrl": "",
      "userId": "00383518770334198095"
     },
     "user_tz": -540
    },
    "id": "z682XYsrjkY9",
    "outputId": "b237e5ba-b44f-4244-bab0-be13160b833b"
   },
   "outputs": [
    {
     "name": "stdout",
     "output_type": "stream",
     "text": [
      "Collecting sentencepiece\n",
      "\u001b[?25l  Downloading https://files.pythonhosted.org/packages/f5/99/e0808cb947ba10f575839c43e8fafc9cc44e4a7a2c8f79c60db48220a577/sentencepiece-0.1.95-cp37-cp37m-manylinux2014_x86_64.whl (1.2MB)\n",
      "\u001b[K     |████████████████████████████████| 1.2MB 28.5MB/s eta 0:00:01\n",
      "\u001b[?25hInstalling collected packages: sentencepiece\n",
      "Successfully installed sentencepiece-0.1.95\n"
     ]
    }
   ],
   "source": [
    "# !pip install -q tf-nightly\n",
    "# import tensorflow_datasets as tfds\n",
    "# !pip3 list | grep tensorflow\n",
    "# import tensorflow as tf\n",
    "\n",
    "!pip3 install sentencepiece\n",
    "import sentencepiece as spm\n",
    "\n",
    "import json\n",
    "import os\n",
    "import pandas as pd\n",
    "\n",
    "import torch\n",
    "import torch.nn as nn\n",
    "import torch.nn.functional as F\n",
    "import torch.optim as optim\n",
    "\n",
    "# GPUを使うために必要\n",
    "device = torch.device(\"cuda\" if torch.cuda.is_available() else \"cpu\")"
   ]
  },
  {
   "cell_type": "code",
   "execution_count": 4,
   "metadata": {
    "executionInfo": {
     "elapsed": 17,
     "status": "ok",
     "timestamp": 1623835868163,
     "user": {
      "displayName": "Ryo Matsumoto",
      "photoUrl": "",
      "userId": "00383518770334198095"
     },
     "user_tz": -540
    },
    "id": "Mp1Z7P9pYRSK"
   },
   "outputs": [],
   "source": [
    "# import matplotlib.pyplot as plt\n",
    "\n",
    "# def plot_graphs(history, metric):\n",
    "#   plt.plot(history.history[metric])\n",
    "#   plt.plot(history.history['val_'+metric], '')\n",
    "#   plt.xlabel(\"Epochs\")\n",
    "#   plt.ylabel(metric)\n",
    "#   plt.legend([metric, 'val_'+metric])\n",
    "#   plt.show()"
   ]
  },
  {
   "cell_type": "markdown",
   "metadata": {
    "id": "pRmMubr0jrE2"
   },
   "source": [
    "## Data\n"
   ]
  },
  {
   "cell_type": "markdown",
   "metadata": {
    "id": "YXKNTJIbt7YM"
   },
   "source": [
    "### load"
   ]
  },
  {
   "cell_type": "code",
   "execution_count": 5,
   "metadata": {
    "colab": {
     "base_uri": "https://localhost:8080/",
     "height": 640
    },
    "executionInfo": {
     "elapsed": 1342,
     "status": "ok",
     "timestamp": 1623835869492,
     "user": {
      "displayName": "Ryo Matsumoto",
      "photoUrl": "",
      "userId": "00383518770334198095"
     },
     "user_tz": -540
    },
    "id": "UiGBml9ot7YM",
    "outputId": "efbfed48-ae9c-416a-e81d-da1386e8ea8c"
   },
   "outputs": [
    {
     "name": "stdout",
     "output_type": "stream",
     "text": [
      "['Suugaku']\n",
      "Suugaku\n"
     ]
    },
    {
     "data": {
      "text/html": [
       "<div>\n",
       "<style scoped>\n",
       "    .dataframe tbody tr th:only-of-type {\n",
       "        vertical-align: middle;\n",
       "    }\n",
       "\n",
       "    .dataframe tbody tr th {\n",
       "        vertical-align: top;\n",
       "    }\n",
       "\n",
       "    .dataframe thead th {\n",
       "        text-align: right;\n",
       "    }\n",
       "</style>\n",
       "<table border=\"1\" class=\"dataframe\">\n",
       "  <thead>\n",
       "    <tr style=\"text-align: right;\">\n",
       "      <th></th>\n",
       "      <th>Unnamed: 0</th>\n",
       "      <th>knowledge_type</th>\n",
       "      <th>&lt;instruction/&gt;</th>\n",
       "      <th>contents</th>\n",
       "    </tr>\n",
       "  </thead>\n",
       "  <tbody>\n",
       "    <tr>\n",
       "      <th>1</th>\n",
       "      <td>1</td>\n",
       "      <td>MATH_IA_EQ</td>\n",
       "      <td>不等式2⁢x+1≦32x13の解はアイ≦x≦ウアイxウである。 aaを自然数とする。</td>\n",
       "      <td>&lt;label&gt;(2)&lt;/label&gt;&lt;instruction&gt; 不等式 &lt;lText id=...</td>\n",
       "    </tr>\n",
       "    <tr>\n",
       "      <th>2</th>\n",
       "      <td>2</td>\n",
       "      <td>MATH_IA_EQ</td>\n",
       "      <td>不等式2⁢x+1≦a2x1a①  -エ-aオ≦x≦-エ+aオエaオxエaオである。</td>\n",
       "      <td>&lt;label&gt;(3)&lt;/label&gt;&lt;instruction&gt; 不等式&lt;ref target...</td>\n",
       "    </tr>\n",
       "    <tr>\n",
       "      <th>3</th>\n",
       "      <td>3</td>\n",
       "      <td>MATH_IA_EQ</td>\n",
       "      <td>kkを定数とする。自然数mm，nnに関する条件pp，qq，rrを次のように定める。pp:m&gt;...</td>\n",
       "      <td>&lt;label&gt;(1)&lt;/label&gt;&lt;instruction&gt; 次の&lt;ref target=...</td>\n",
       "    </tr>\n",
       "    <tr>\n",
       "      <th>4</th>\n",
       "      <td>4</td>\n",
       "      <td>MATH_IA_EQ</td>\n",
       "      <td>次のクに当てはまるものを，下の⓪～➂のうちから一つ選べ。 ppの否定p¯pはクである。</td>\n",
       "      <td>&lt;label&gt;(2)&lt;/label&gt;&lt;instruction&gt; 次の&lt;ref target=...</td>\n",
       "    </tr>\n",
       "    <tr>\n",
       "      <th>5</th>\n",
       "      <td>5</td>\n",
       "      <td>MATH_IA_PARABOLA</td>\n",
       "      <td>次のケ～サに当てはまるものを，下の⓪～➂のうちから一つずつ選べ。ただし，同じものを繰り返し...</td>\n",
       "      <td>&lt;label&gt;【２】&lt;/label&gt;&lt;info&gt;（配点　25）&lt;/info&gt; &lt;instr...</td>\n",
       "    </tr>\n",
       "    <tr>\n",
       "      <th>...</th>\n",
       "      <td>...</td>\n",
       "      <td>...</td>\n",
       "      <td>...</td>\n",
       "      <td>...</td>\n",
       "    </tr>\n",
       "    <tr>\n",
       "      <th>393</th>\n",
       "      <td>393</td>\n",
       "      <td>MATH_IIB_VECTOR</td>\n",
       "      <td>三つのベクトル，，について …………………………① …………………………②ア，イに当てはまる...</td>\n",
       "      <td>&lt;label&gt;(2)&lt;/label&gt;  &lt;instruction&gt;&lt;formula /&gt;...</td>\n",
       "    </tr>\n",
       "    <tr>\n",
       "      <th>394</th>\n",
       "      <td>394</td>\n",
       "      <td>MATH_IIB_VECTOR</td>\n",
       "      <td>により，三角形ABCは正三角形である。以下，4点A，B，C，Dが，正四面体の四つの頂点になる...</td>\n",
       "      <td>&lt;label&gt;(3)&lt;/label&gt;  &lt;instruction&gt;&lt;formula&gt;(x...</td>\n",
       "    </tr>\n",
       "    <tr>\n",
       "      <th>395</th>\n",
       "      <td>395</td>\n",
       "      <td>IC_O,IC_T,MATH_IIB_STATISTICS</td>\n",
       "      <td>0＜p＜1とする。袋の中に白球がp，赤球が1-pの割合で，全部でm個入っているものとする...</td>\n",
       "      <td>&lt;label&gt;(1)&lt;/label&gt;  &lt;instruction&gt;&lt;formula /&gt;...</td>\n",
       "    </tr>\n",
       "    <tr>\n",
       "      <th>396</th>\n",
       "      <td>396</td>\n",
       "      <td>IC_O,IC_T,MATH_IIB_STATISTICS</td>\n",
       "      <td>とする。この袋の中から1個の球を取り出し袋の中へ戻すという試行を4回繰り返すとき，白球の出る...</td>\n",
       "      <td>&lt;label&gt;(2)&lt;/label&gt;  &lt;instruction&gt;&lt;formula&gt;m=...</td>\n",
       "    </tr>\n",
       "    <tr>\n",
       "      <th>397</th>\n",
       "      <td>397</td>\n",
       "      <td>IC_O,IC_T,MATH_IIB_STATISTICS</td>\n",
       "      <td>m=10，とする。この袋の中から同時に4個の球を取り出すとき，白球の個数を表す確率変数をYと...</td>\n",
       "      <td>&lt;label&gt;(3)&lt;/label&gt;  &lt;instruction&gt;以下では，&lt;formu...</td>\n",
       "    </tr>\n",
       "  </tbody>\n",
       "</table>\n",
       "<p>381 rows × 4 columns</p>\n",
       "</div>"
      ],
      "text/plain": [
       "     Unnamed: 0  ...                                           contents\n",
       "1             1  ...  <label>(2)</label><instruction> 不等式 <lText id=...\n",
       "2             2  ...  <label>(3)</label><instruction> 不等式<ref target...\n",
       "3             3  ...  <label>(1)</label><instruction> 次の<ref target=...\n",
       "4             4  ...  <label>(2)</label><instruction> 次の<ref target=...\n",
       "5             5  ...   <label>【２】</label><info>（配点　25）</info> <instr...\n",
       "..          ...  ...                                                ...\n",
       "393         393  ...    <label>(2)</label>  <instruction><formula />...\n",
       "394         394  ...    <label>(3)</label>  <instruction><formula>(x...\n",
       "395         395  ...    <label>(1)</label>  <instruction><formula />...\n",
       "396         396  ...    <label>(2)</label>  <instruction><formula>m=...\n",
       "397         397  ...    <label>(3)</label>  <instruction>以下では，<formu...\n",
       "\n",
       "[381 rows x 4 columns]"
      ]
     },
     "execution_count": 5,
     "metadata": {
      "tags": []
     },
     "output_type": "execute_result"
    }
   ],
   "source": [
    "sbj_names = 'Suugaku' #@param [['Eigo'], ['Suugaku'], ['Eigo', 'Suugaku']]\n",
    "sbj_names = sbj_names.split(',')\n",
    "print(sbj_names)\n",
    "elmnt_name = 'question'\n",
    "attr_name = 'knowledge_type'   #@param ['knowledge_type', 'answer_type']\n",
    "is_remove_xml = False #@param {type:\"boolean\"}\n",
    "\n",
    "df = None\n",
    "for sbj in sbj_names:\n",
    "    print(sbj)\n",
    "    attr_csv_path = f'../{sbj}_{attr_name}_ds.tsv'\n",
    "    df_tmp = pd.read_csv(attr_csv_path, delimiter='\\t')\n",
    "    df = pd.concat([df, df_tmp])\n",
    "\n",
    "df = df.reset_index(drop=True)\n",
    "df = df.dropna()  # nan を削除\n",
    "df"
   ]
  },
  {
   "cell_type": "code",
   "execution_count": 6,
   "metadata": {
    "colab": {
     "base_uri": "https://localhost:8080/",
     "height": 606
    },
    "executionInfo": {
     "elapsed": 27,
     "status": "ok",
     "timestamp": 1623835869493,
     "user": {
      "displayName": "Ryo Matsumoto",
      "photoUrl": "",
      "userId": "00383518770334198095"
     },
     "user_tz": -540
    },
    "id": "SHRwRoP2nVHX",
    "outputId": "2ba3c4fa-8cb3-42a1-c155-8ca38c2b688b"
   },
   "outputs": [
    {
     "data": {
      "text/html": [
       "<div>\n",
       "<style scoped>\n",
       "    .dataframe tbody tr th:only-of-type {\n",
       "        vertical-align: middle;\n",
       "    }\n",
       "\n",
       "    .dataframe tbody tr th {\n",
       "        vertical-align: top;\n",
       "    }\n",
       "\n",
       "    .dataframe thead th {\n",
       "        text-align: right;\n",
       "    }\n",
       "</style>\n",
       "<table border=\"1\" class=\"dataframe\">\n",
       "  <thead>\n",
       "    <tr style=\"text-align: right;\">\n",
       "      <th></th>\n",
       "      <th>Unnamed: 0</th>\n",
       "      <th>knowledge_type</th>\n",
       "      <th>&lt;instruction/&gt;</th>\n",
       "      <th>contents</th>\n",
       "    </tr>\n",
       "  </thead>\n",
       "  <tbody>\n",
       "    <tr>\n",
       "      <th>1</th>\n",
       "      <td>1</td>\n",
       "      <td>MATH_IA_EQ</td>\n",
       "      <td>不等式2⁢x+1≦32x13の解はアイ≦x≦ウアイxウである。 aaを自然数とする。</td>\n",
       "      <td>&lt;label&gt;(2)&lt;/label&gt;&lt;instruction&gt; 不等式 &lt;lText id=...</td>\n",
       "    </tr>\n",
       "    <tr>\n",
       "      <th>2</th>\n",
       "      <td>2</td>\n",
       "      <td>MATH_IA_EQ</td>\n",
       "      <td>不等式2⁢x+1≦a2x1a①  -エ-aオ≦x≦-エ+aオエaオxエaオである。</td>\n",
       "      <td>&lt;label&gt;(3)&lt;/label&gt;&lt;instruction&gt; 不等式&lt;ref target...</td>\n",
       "    </tr>\n",
       "    <tr>\n",
       "      <th>3</th>\n",
       "      <td>3</td>\n",
       "      <td>MATH_IA_EQ</td>\n",
       "      <td>kkを定数とする。自然数mm，nnに関する条件pp，qq，rrを次のように定める。pp:m&gt;...</td>\n",
       "      <td>&lt;label&gt;(1)&lt;/label&gt;&lt;instruction&gt; 次の&lt;ref target=...</td>\n",
       "    </tr>\n",
       "    <tr>\n",
       "      <th>4</th>\n",
       "      <td>4</td>\n",
       "      <td>MATH_IA_EQ</td>\n",
       "      <td>次のクに当てはまるものを，下の⓪～➂のうちから一つ選べ。 ppの否定p¯pはクである。</td>\n",
       "      <td>&lt;label&gt;(2)&lt;/label&gt;&lt;instruction&gt; 次の&lt;ref target=...</td>\n",
       "    </tr>\n",
       "    <tr>\n",
       "      <th>5</th>\n",
       "      <td>5</td>\n",
       "      <td>MATH_IA_PARABOLA</td>\n",
       "      <td>次のケ～サに当てはまるものを，下の⓪～➂のうちから一つずつ選べ。ただし，同じものを繰り返し...</td>\n",
       "      <td>&lt;label&gt;【２】&lt;/label&gt;&lt;info&gt;（配点　25）&lt;/info&gt; &lt;instr...</td>\n",
       "    </tr>\n",
       "    <tr>\n",
       "      <th>...</th>\n",
       "      <td>...</td>\n",
       "      <td>...</td>\n",
       "      <td>...</td>\n",
       "      <td>...</td>\n",
       "    </tr>\n",
       "    <tr>\n",
       "      <th>393</th>\n",
       "      <td>393</td>\n",
       "      <td>MATH_IIB_VECTOR</td>\n",
       "      <td>三つのベクトル，，について …………………………① …………………………②ア，イに当てはまる...</td>\n",
       "      <td>&lt;label&gt;(2)&lt;/label&gt;  &lt;instruction&gt;&lt;formula /&gt;...</td>\n",
       "    </tr>\n",
       "    <tr>\n",
       "      <th>394</th>\n",
       "      <td>394</td>\n",
       "      <td>MATH_IIB_VECTOR</td>\n",
       "      <td>により，三角形ABCは正三角形である。以下，4点A，B，C，Dが，正四面体の四つの頂点になる...</td>\n",
       "      <td>&lt;label&gt;(3)&lt;/label&gt;  &lt;instruction&gt;&lt;formula&gt;(x...</td>\n",
       "    </tr>\n",
       "    <tr>\n",
       "      <th>395</th>\n",
       "      <td>395</td>\n",
       "      <td>IC_O,IC_T,MATH_IIB_STATISTICS</td>\n",
       "      <td>0＜p＜1とする。袋の中に白球がp，赤球が1-pの割合で，全部でm個入っているものとする...</td>\n",
       "      <td>&lt;label&gt;(1)&lt;/label&gt;  &lt;instruction&gt;&lt;formula /&gt;...</td>\n",
       "    </tr>\n",
       "    <tr>\n",
       "      <th>396</th>\n",
       "      <td>396</td>\n",
       "      <td>IC_O,IC_T,MATH_IIB_STATISTICS</td>\n",
       "      <td>とする。この袋の中から1個の球を取り出し袋の中へ戻すという試行を4回繰り返すとき，白球の出る...</td>\n",
       "      <td>&lt;label&gt;(2)&lt;/label&gt;  &lt;instruction&gt;&lt;formula&gt;m=...</td>\n",
       "    </tr>\n",
       "    <tr>\n",
       "      <th>397</th>\n",
       "      <td>397</td>\n",
       "      <td>IC_O,IC_T,MATH_IIB_STATISTICS</td>\n",
       "      <td>m=10，とする。この袋の中から同時に4個の球を取り出すとき，白球の個数を表す確率変数をYと...</td>\n",
       "      <td>&lt;label&gt;(3)&lt;/label&gt;  &lt;instruction&gt;以下では，&lt;formu...</td>\n",
       "    </tr>\n",
       "  </tbody>\n",
       "</table>\n",
       "<p>381 rows × 4 columns</p>\n",
       "</div>"
      ],
      "text/plain": [
       "     Unnamed: 0  ...                                           contents\n",
       "1             1  ...  <label>(2)</label><instruction> 不等式 <lText id=...\n",
       "2             2  ...  <label>(3)</label><instruction> 不等式<ref target...\n",
       "3             3  ...  <label>(1)</label><instruction> 次の<ref target=...\n",
       "4             4  ...  <label>(2)</label><instruction> 次の<ref target=...\n",
       "5             5  ...   <label>【２】</label><info>（配点　25）</info> <instr...\n",
       "..          ...  ...                                                ...\n",
       "393         393  ...    <label>(2)</label>  <instruction><formula />...\n",
       "394         394  ...    <label>(3)</label>  <instruction><formula>(x...\n",
       "395         395  ...    <label>(1)</label>  <instruction><formula />...\n",
       "396         396  ...    <label>(2)</label>  <instruction><formula>m=...\n",
       "397         397  ...    <label>(3)</label>  <instruction>以下では，<formu...\n",
       "\n",
       "[381 rows x 4 columns]"
      ]
     },
     "execution_count": 6,
     "metadata": {
      "tags": []
     },
     "output_type": "execute_result"
    }
   ],
   "source": [
    "## XMLタグ除去\n",
    "if is_remove_xml:\n",
    "    import re\n",
    "    def remove_xml(xml_child_str):\n",
    "        xml_child_str = re.sub('<.*?>', '', xml_child_str)\n",
    "        return re.sub('</.*?>', '', xml_child_str)\n",
    "\n",
    "    # test_idx = 200\n",
    "    # print(df['contents'][test_idx])\n",
    "    # print(remove_xml(df['contents'][test_idx]))\n",
    "    df['contents'] = df['contents'].map(remove_xml)\n",
    "df"
   ]
  },
  {
   "cell_type": "markdown",
   "metadata": {
    "id": "xUISJj8_t7YO"
   },
   "source": [
    "### Tokenize\n",
    "SentencePiece を使用。\n",
    "- タグ あり／なし"
   ]
  },
  {
   "cell_type": "code",
   "execution_count": 7,
   "metadata": {
    "colab": {
     "base_uri": "https://localhost:8080/"
    },
    "executionInfo": {
     "elapsed": 1495,
     "status": "ok",
     "timestamp": 1623835870967,
     "user": {
      "displayName": "Ryo Matsumoto",
      "photoUrl": "",
      "userId": "00383518770334198095"
     },
     "user_tz": -540
    },
    "id": "jzjMPliXt7YP",
    "outputId": "aeadd5c0-d324-4b53-f7b7-bf7cb189bab1"
   },
   "outputs": [
    {
     "data": {
      "text/plain": [
       "True"
      ]
     },
     "execution_count": 7,
     "metadata": {
      "tags": []
     },
     "output_type": "execute_result"
    }
   ],
   "source": [
    "m_dir = 'model/SentencePiece'\n",
    "os.makedirs(m_dir, exist_ok=True)\n",
    "df.to_csv(f'{m_dir}/tmp.txt', sep='\\t')\n",
    "\n",
    "# arg_str = '--input={m_dir}/tmp.txt --model_prefix={m_dir}/m_user ' + '--user_defined_symbols=<sep>,<cls>' + ',<ansColumn/>,<label>' + ' --vocab_size=2000'\n",
    "# spm.SentencePieceTrainer.train(arg_str)\n",
    "\n",
    "spm.SentencePieceTrainer.train(f'--input={m_dir}/tmp.txt --model_prefix={m_dir}/m  --user_defined_symbols=<sep>,<cls>,<pad>   --vocab_size=2000')\n",
    "sp = spm.SentencePieceProcessor()  # model_file='SentencePiece/test_model.model'\n",
    "\n",
    "sp.load(f'{m_dir}/m.model')"
   ]
  },
  {
   "cell_type": "code",
   "execution_count": 8,
   "metadata": {
    "executionInfo": {
     "elapsed": 12,
     "status": "ok",
     "timestamp": 1623835870968,
     "user": {
      "displayName": "Ryo Matsumoto",
      "photoUrl": "",
      "userId": "00383518770334198095"
     },
     "user_tz": -540
    },
    "id": "Azo0vjkzt7YQ"
   },
   "outputs": [],
   "source": [
    "# # encode: text => id\n",
    "# tokenized_tokens =  sp.encode_as_pieces('次の問い(問１～３)の会話の 17 ～ 19 に入れるのに最も適当なものを，それぞれ以下の①～④のうちから一つずつ選べ。\t')\n",
    "# print(tokenized_tokens)\n",
    "\n",
    "# tokenized_ids = sp.encode_as_ids('次の問い(問１～３)の会話の 17 ～ 19 に入れるのに最も適当なものを，それぞれ以下の①～④のうちから一つずつ選べ。\t')\n",
    "# print(tokenized_ids)\n",
    "\n",
    "# decoded_text = sp.decode(tokenized_ids)\n",
    "# print(decoded_text)"
   ]
  },
  {
   "cell_type": "code",
   "execution_count": 9,
   "metadata": {
    "executionInfo": {
     "elapsed": 11,
     "status": "ok",
     "timestamp": 1623835870971,
     "user": {
      "displayName": "Ryo Matsumoto",
      "photoUrl": "",
      "userId": "00383518770334198095"
     },
     "user_tz": -540
    },
    "id": "CUzhuRJIt7YQ"
   },
   "outputs": [],
   "source": [
    "# example_content = df_tmp['contents'][20]\n",
    "# print(example_content, sp.encode_as_pieces(example_content))"
   ]
  },
  {
   "cell_type": "code",
   "execution_count": 10,
   "metadata": {
    "executionInfo": {
     "elapsed": 11,
     "status": "ok",
     "timestamp": 1623835870972,
     "user": {
      "displayName": "Ryo Matsumoto",
      "photoUrl": "",
      "userId": "00383518770334198095"
     },
     "user_tz": -540
    },
    "id": "MDVc6UGO5Dh6"
   },
   "outputs": [],
   "source": [
    "# for index in encoded_string:\n",
    "#   print('{} ----> {}'.format(index, encoder.decode([index])))"
   ]
  },
  {
   "cell_type": "markdown",
   "metadata": {
    "id": "GlYWqhTVlUyQ"
   },
   "source": [
    "## Train 用データの準備"
   ]
  },
  {
   "cell_type": "code",
   "execution_count": 11,
   "metadata": {
    "colab": {
     "base_uri": "https://localhost:8080/"
    },
    "executionInfo": {
     "elapsed": 432,
     "status": "ok",
     "timestamp": 1623835871394,
     "user": {
      "displayName": "Ryo Matsumoto",
      "photoUrl": "",
      "userId": "00383518770334198095"
     },
     "user_tz": -540
    },
    "id": "VznrltNOnUc5",
    "outputId": "6e6140c0-c3f1-4c4b-9191-045bdd9833bb"
   },
   "outputs": [
    {
     "name": "stdout",
     "output_type": "stream",
     "text": [
      "vocab size :  1969\n"
     ]
    }
   ],
   "source": [
    "word2index = {}\n",
    "# 系列を揃えるためのパディング文字列<pad>を追加\n",
    "# パディング文字列のIDは0とする\n",
    "word2index.update({\"<pad>\":0})\n",
    "\n",
    "for inst, cont in zip(df['<instruction/>'], df['contents']):\n",
    "#     try:\n",
    "    tokens = sp.encode_as_pieces(inst + cont)\n",
    "    for word in tokens:\n",
    "            if word in word2index: continue\n",
    "            word2index[word] = len(word2index)\n",
    "#     except TypeError:\n",
    "#         print(f'[Error] <instruction/> が nan です。')\n",
    "#         print(f'    inst : {inst}')\n",
    "#         print(f'    cont : {cont}')\n",
    "\n",
    "print(\"vocab size : \", len(word2index))\n"
   ]
  },
  {
   "cell_type": "code",
   "execution_count": 12,
   "metadata": {
    "colab": {
     "base_uri": "https://localhost:8080/"
    },
    "executionInfo": {
     "elapsed": 16,
     "status": "ok",
     "timestamp": 1623835871397,
     "user": {
      "displayName": "Ryo Matsumoto",
      "photoUrl": "",
      "userId": "00383518770334198095"
     },
     "user_tz": -540
    },
    "id": "Qo8_OUOUt7YS",
    "outputId": "1083b600-9def-4201-964a-c1d00440afbc"
   },
   "outputs": [
    {
     "name": "stdout",
     "output_type": "stream",
     "text": [
      "['IC_G,IC_O,MATH_IIB_STATISTICS', 'IC_G,MATH_IIB_STATISTICS', 'IC_O,IC_T,MATH_IIB_STATISTICS', 'IC_O,MATH_IA_PROBABILITY', 'IC_O,MATH_IIB_VECTOR', 'IC_T,IC_G,MATH_IIB_STATISTICS', 'IC_T,IC_O,MATH_IIB_STATISTICS', 'IC_T,MATH_IIB_COMPUTER', 'IC_T,MATH_IIB_STATISTICS', 'MATH_IA_EQ', 'MATH_IA_GEOMETRY', 'MATH_IA_PARABOLA', 'MATH_IA_PROBABILITY', 'MATH_IA_PROBABILITY,IC_O', 'MATH_IA_SET_LOGIC', 'MATH_IA_SET_LOGIC,IC_G', 'MATH_IA_SET_LOGIC,IC_G,IC_O', 'MATH_IA_SET_LOGIC,IC_G,IC_T', 'MATH_IA_SET_LOGIC,IC_T', 'MATH_IIB_CALCULUS', 'MATH_IIB_COMPUTER', 'MATH_IIB_EXPLOG', 'MATH_IIB_GEOMETRY', 'MATH_IIB_NUMSEQ', 'MATH_IIB_POLY', 'MATH_IIB_POLY,MATH_IIB_EXPLOG', 'MATH_IIB_STATISTICS', 'MATH_IIB_STATISTICS,IC_G,IC_T', 'MATH_IIB_TRIGONOMETRY', 'MATH_IIB_VECTOR']\n",
      "30\n"
     ]
    }
   ],
   "source": [
    "## set_dict から自動抽出する！\n",
    "# attr_name = 'knowledge_type'  # 'answer_type'\n",
    "\n",
    "categories = set()\n",
    "for sbj in sbj_names:\n",
    "    with open(f'../class_set/{sbj}-{elmnt_name}-{attr_name}.json') as f:\n",
    "        categories |= set(json.load(f))   # sbj_names = ['Eigo', ]\n",
    "\n",
    "# print(categories)\n",
    "\n",
    "# categories = [\n",
    "#     'sentence', \n",
    "#     'term_person', 'term_location', 'term_time', 'term_other',\n",
    "#     'referenceSymbol',\n",
    "#     'image_graph', 'image_photo', 'image_map', 'image_table', 'image_other',\n",
    "#     'formula', \n",
    "#     'orthography',\n",
    "#     'other',\n",
    "#     # 組み合わせ系（仮追加）\n",
    "#     '(symbol-sentence)*2', '(symbol-sentence)*3', '(symbol-sentence)*4', '(symbol-term_location)*3', '(symbol-term_other)*3', '(symbol-term_other)*3',\n",
    "#     '(symbol-symbol)*4',\n",
    "#     '(term_location-term_location-term_location)', 'term_location-term_location-term_location-term_location',\n",
    "#     '(term_location-term_location-term_location)', '(term_location-term_location-term_location)',\n",
    "#     '(term_other-term_other-term_other)',\n",
    "#     'term_other-term_other-term_other',\n",
    "#     'sentence-sentence',\n",
    "#     'sentence-sentence-sentence',\n",
    "#     'symbol-symbol',\n",
    "#     'symbol-symbol-symbol',\n",
    "#     'symbol-symbol-symbol-symbol',\n",
    "#     'o(symbol-symbol-symbol-symbol)',\n",
    "#     'o(symbol-symbol-symbol)',\n",
    "# ]\n",
    "\n",
    "categories = list(categories)\n",
    "categories.sort()    # 入れないと、クラス番号が変わってしまい、再現実験ができないので注意？\n",
    "print(categories)\n",
    "print(len(categories))"
   ]
  },
  {
   "cell_type": "code",
   "execution_count": 13,
   "metadata": {
    "executionInfo": {
     "elapsed": 21150,
     "status": "ok",
     "timestamp": 1623835892816,
     "user": {
      "displayName": "Ryo Matsumoto",
      "photoUrl": "",
      "userId": "00383518770334198095"
     },
     "user_tz": -540
    },
    "id": "8lgLRE0z4Opm",
    "tags": []
   },
   "outputs": [],
   "source": [
    "## 系列の長さを揃えてバッチでまとめる\n",
    "\n",
    "from sklearn.model_selection import train_test_split\n",
    "import random\n",
    "from sklearn.utils import shuffle\n",
    "\n",
    "cat2index = {}\n",
    "for cat in categories:\n",
    "    if cat in cat2index: continue\n",
    "    cat2index[cat] = len(cat2index)\n",
    "\n",
    "def sentence2index(sentence):\n",
    "    tokens = sp.encode_as_pieces(sentence)\n",
    "    # print(tokens)\n",
    "    return [word2index[w] for w in tokens]\n",
    "\n",
    "def category2index(cat):\n",
    "    return [cat2index[cat]]\n",
    "\n",
    "index_datasets_c_xml_tmp = []\n",
    "index_datasets_category = []\n",
    "\n",
    "# 系列の長さの最大値を取得。この長さに他の系列の長さをあわせる\n",
    "max_len = 0\n",
    "for inst, cont, category in zip(df['<instruction/>'], df['contents'], df[attr_name]):\n",
    "    index_c_xml = sentence2index(inst + cont)\n",
    "    index_category = category2index(category)\n",
    "    index_datasets_c_xml_tmp.append(index_c_xml)\n",
    "    index_datasets_category.append(index_category)\n",
    "    if max_len < len(index_c_xml):\n",
    "        max_len = len(index_c_xml)\n",
    "\n",
    "# 系列の長さを揃えるために短い系列にパディングを追加\n",
    "# 後ろパディングだと正しく学習できなかったので、前パディング\n",
    "index_datasets_c_xml = []\n",
    "for c_xml in index_datasets_c_xml_tmp:\n",
    "    for i in range(max_len - len(c_xml)):\n",
    "        c_xml.insert(0, 0) # 前パディング\n",
    "#     c_xml.append(0)　# 後ろパディング\n",
    "    index_datasets_c_xml.append(c_xml)\n",
    "\n",
    "train_x, test_x, train_y, test_y = train_test_split(index_datasets_c_xml, index_datasets_category, train_size=0.7)\n",
    "\n",
    "# データをバッチでまとめるための関数\n",
    "def train2batch(c_xml, category, batch_size=100):\n",
    "    c_xml_batch = []\n",
    "    category_batch = []\n",
    "    c_xml_shuffle, category_shuffle = shuffle(c_xml, category)\n",
    "    for i in range(0, len(c_xml), batch_size):\n",
    "        c_xml_batch.append(c_xml_shuffle[i:i+batch_size])\n",
    "        category_batch.append(category_shuffle[i:i+batch_size])\n",
    "    return c_xml_batch, category_batch"
   ]
  },
  {
   "cell_type": "markdown",
   "metadata": {
    "id": "bjUqGVBxGw-t"
   },
   "source": [
    "## モデルの作成"
   ]
  },
  {
   "cell_type": "code",
   "execution_count": 14,
   "metadata": {
    "executionInfo": {
     "elapsed": 32,
     "status": "ok",
     "timestamp": 1623835892818,
     "user": {
      "displayName": "Ryo Matsumoto",
      "photoUrl": "",
      "userId": "00383518770334198095"
     },
     "user_tz": -540
    },
    "id": "LwfoBkmRYcP3"
   },
   "outputs": [],
   "source": [
    "class LSTMClassifier(nn.Module):\n",
    "    def __init__(self, embedding_dim, hidden_dim, vocab_size, tagset_size):\n",
    "        super(LSTMClassifier, self).__init__()\n",
    "        self.hidden_dim = hidden_dim\n",
    "        # <pad>の単語IDが0なので、padding_idx=0としている\n",
    "        self.word_embeddings = nn.Embedding(vocab_size, embedding_dim, padding_idx=0)\n",
    "        # batch_first=Trueが大事！\n",
    "        self.lstm = nn.LSTM(embedding_dim, hidden_dim, batch_first=True)\n",
    "        self.hidden2tag = nn.Linear(hidden_dim, tagset_size)\n",
    "        self.softmax = nn.LogSoftmax()\n",
    "\n",
    "    def forward(self, sentence):\n",
    "        embeds = self.word_embeddings(sentence)\n",
    "        #embeds.size() = (batch_size × len(sentence) × embedding_dim)\n",
    "        _, lstm_out = self.lstm(embeds)\n",
    "        # lstm_out[0].size() = (1 × batch_size × hidden_dim)\n",
    "        tag_space = self.hidden2tag(lstm_out[0])\n",
    "        # tag_space.size() = (1 × batch_size × tagset_size)\n",
    "\n",
    "        # (batch_size × tagset_size)にするためにsqueeze()する\n",
    "        tag_scores = self.softmax(tag_space.squeeze())\n",
    "        # tag_scores.size() = (batch_size × tagset_size)\n",
    "\n",
    "        return tag_scores  \n",
    "\n",
    "    def load_weights(self, load_m_path='_logs/test/LSTM_classifier.pth',):\n",
    "        if load_m_path is not None:\n",
    "            param = torch.load(load_m_path)\n",
    "            self.load_state_dict(param)\n",
    "            print(f'[info] {load_m_path} loaded !')\n",
    "\n",
    "    def save(self, save_f_path='_logs/test/LSTM_classifier.pth',):\n",
    "        torch.save(self.state_dict(), save_f_path)\n",
    "\n",
    "    \n",
    "# 単語の埋め込み次元数上げた。精度がそこそこアップ！ハイパーパラメータのチューニング大事。\n",
    "EMBEDDING_DIM = 200\n",
    "HIDDEN_DIM = 128\n",
    "VOCAB_SIZE = len(word2index)\n",
    "TAG_SIZE = len(categories)\n",
    "\n",
    "# model = LSTMClassifier(EMBEDDING_DIM, HIDDEN_DIM, VOCAB_SIZE, TAG_SIZE).to(device)\n",
    "\n",
    "# loss_function = nn.NLLLoss()\n",
    "# # SGDからAdamに変更。特に意味はなし\n",
    "# optimizer = optim.Adam(model.parameters(), lr=0.001)\n"
   ]
  },
  {
   "cell_type": "markdown",
   "metadata": {
    "id": "hSZFazeqt7YV"
   },
   "source": [
    "---"
   ]
  },
  {
   "cell_type": "markdown",
   "metadata": {
    "id": "2nSk2U4Wt7YV"
   },
   "source": [
    "## Eval"
   ]
  },
  {
   "cell_type": "code",
   "execution_count": 15,
   "metadata": {
    "colab": {
     "base_uri": "https://localhost:8080/"
    },
    "executionInfo": {
     "elapsed": 11473,
     "status": "ok",
     "timestamp": 1623835904262,
     "user": {
      "displayName": "Ryo Matsumoto",
      "photoUrl": "",
      "userId": "00383518770334198095"
     },
     "user_tz": -540
    },
    "id": "iokGD9knt7YV",
    "outputId": "f7263285-5f8c-4b04-d6d9-2d27ee7ee7e9"
   },
   "outputs": [
    {
     "name": "stdout",
     "output_type": "stream",
     "text": [
      "[info] _logs/best-kwlg_type_sbj_math/LSTM_classifier.pth loaded !\n"
     ]
    },
    {
     "data": {
      "text/plain": [
       "LSTMClassifier(\n",
       "  (word_embeddings): Embedding(1969, 200, padding_idx=0)\n",
       "  (lstm): LSTM(200, 128, batch_first=True)\n",
       "  (hidden2tag): Linear(in_features=128, out_features=30, bias=True)\n",
       "  (softmax): LogSoftmax(dim=None)\n",
       ")"
      ]
     },
     "execution_count": 15,
     "metadata": {
      "tags": []
     },
     "output_type": "execute_result"
    }
   ],
   "source": [
    "option = ''\n",
    "\n",
    "# 重み読み込み\n",
    "best_m_dir = \"best-kwlg_type_sbj_math\" #@param ['best-kwlg_type_sbj_en',  'best-kwlg_type_sbj_math', 'best-kwlg_type_sbj_en_noXML', 'best-kwlg_type_sbj_x2']\n",
    "# option = '_500epc'\n",
    "\n",
    "model = LSTMClassifier(EMBEDDING_DIM, HIDDEN_DIM, VOCAB_SIZE, TAG_SIZE)\n",
    "model.load_weights(f'_logs/{best_m_dir}/LSTM_classifier{option}.pth')\n",
    "# to(device)でモデルがGPU対応する\n",
    "model.to(device)"
   ]
  },
  {
   "cell_type": "code",
   "execution_count": 17,
   "metadata": {
    "colab": {
     "base_uri": "https://localhost:8080/"
    },
    "executionInfo": {
     "elapsed": 1008,
     "status": "ok",
     "timestamp": 1623837431658,
     "user": {
      "displayName": "Ryo Matsumoto",
      "photoUrl": "",
      "userId": "00383518770334198095"
     },
     "user_tz": -540
    },
    "id": "BaNbXi43YgUT",
    "outputId": "49d98880-8104-4527-f792-dff80df96458"
   },
   "outputs": [
    {
     "name": "stdout",
     "output_type": "stream",
     "text": [
      "predict :  0.0\n"
     ]
    },
    {
     "name": "stderr",
     "output_type": "stream",
     "text": [
      "/usr/local/lib/python3.7/dist-packages/ipykernel_launcher.py:21: UserWarning: Implicit dimension choice for log_softmax has been deprecated. Change the call to include dim=X as an argument.\n"
     ]
    }
   ],
   "source": [
    "test_num = len(test_x)\n",
    "a = 0\n",
    "with torch.no_grad():\n",
    "    title_batch, category_batch = train2batch(test_x, test_y)\n",
    "\n",
    "    for i in range(len(title_batch)):\n",
    "        title_tensor = torch.tensor(title_batch[i], device=device)\n",
    "        category_tensor = torch.tensor(category_batch[i], device=device)\n",
    "\n",
    "        out = model(title_tensor)\n",
    "        _, predicts = torch.max(out, 1)\n",
    "        for j, ans in enumerate(category_tensor):\n",
    "            if predicts[j].item() == ans.item():\n",
    "                a += 1\n",
    "                print(predicts[j].item(), ans.item())\n",
    "            # else:\n",
    "            #     print(predicts[j].item(), ans.item())\n",
    "print(\"predict : \", a / test_num)\n",
    "# predict :  0.6967916854948034"
   ]
  },
  {
   "cell_type": "markdown",
   "metadata": {
    "id": "RheLPl1nt7YW"
   },
   "source": [
    "___"
   ]
  },
  {
   "cell_type": "code",
   "execution_count": 16,
   "metadata": {
    "executionInfo": {
     "elapsed": 13,
     "status": "ok",
     "timestamp": 1623835905316,
     "user": {
      "displayName": "Ryo Matsumoto",
      "photoUrl": "",
      "userId": "00383518770334198095"
     },
     "user_tz": -540
    },
    "id": "FQtyd58vt7YY"
   },
   "outputs": [],
   "source": []
  },
  {
   "cell_type": "code",
   "execution_count": 16,
   "metadata": {
    "executionInfo": {
     "elapsed": 13,
     "status": "ok",
     "timestamp": 1623835905317,
     "user": {
      "displayName": "Ryo Matsumoto",
      "photoUrl": "",
      "userId": "00383518770334198095"
     },
     "user_tz": -540
    },
    "id": "iylniDEGt7Yb"
   },
   "outputs": [],
   "source": []
  }
 ],
 "metadata": {
  "accelerator": "GPU",
  "colab": {
   "collapsed_sections": [],
   "name": "[google_colab] attribute_classifiy_LSTM_pt_eval.ipynb",
   "provenance": [],
   "toc_visible": true
  },
  "interpreter": {
   "hash": "089bc7a4b5bcca8ded8f56dd6d31f99db98f335bd2546ffdf0f141ab8351be05"
  },
  "kernelspec": {
   "display_name": "Python 3",
   "language": "python",
   "name": "python3"
  },
  "language_info": {
   "codemirror_mode": {
    "name": "ipython",
    "version": 3
   },
   "file_extension": ".py",
   "mimetype": "text/x-python",
   "name": "python",
   "nbconvert_exporter": "python",
   "pygments_lexer": "ipython3",
   "version": "3.6.9"
  },
  "metadata": {
   "interpreter": {
    "hash": "089bc7a4b5bcca8ded8f56dd6d31f99db98f335bd2546ffdf0f141ab8351be05"
   }
  }
 },
 "nbformat": 4,
 "nbformat_minor": 4
}
