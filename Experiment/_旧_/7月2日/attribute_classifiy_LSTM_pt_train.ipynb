{
 "cells": [
  {
   "cell_type": "code",
   "execution_count": 1,
   "metadata": {
    "cellView": "form",
    "id": "0nbI5DtDGw-i"
   },
   "outputs": [],
   "source": [
    "#@title Licensed under the Apache License, Version 2.0 (the \"License\");\n",
    "# you may not use this file except in compliance with the License.\n",
    "# You may obtain a copy of the License at\n",
    "#\n",
    "# https://www.apache.org/licenses/LICENSE-2.0\n",
    "#\n",
    "# Unless required by applicable law or agreed to in writing, software\n",
    "# distributed under the License is distributed on an \"AS IS\" BASIS,\n",
    "# WITHOUT WARRANTIES OR CONDITIONS OF ANY KIND, either express or implied.\n",
    "# See the License for the specific language governing permissions and\n",
    "# limitations under the License."
   ]
  },
  {
   "cell_type": "markdown",
   "metadata": {
    "id": "9TnJztDZGw-n"
   },
   "source": [
    "# RNN を使ったテキスト分類"
   ]
  },
  {
   "cell_type": "code",
   "execution_count": 2,
   "metadata": {
    "id": "z682XYsrjkY9"
   },
   "outputs": [],
   "source": [
    "# !pip install -q tf-nightly\n",
    "# import tensorflow_datasets as tfds\n",
    "# !pip3 list | grep tensorflow\n",
    "# import tensorflow as tf\n",
    "\n",
    "# !pip3 install sentencepiece\n",
    "import sentencepiece as spm\n",
    "\n",
    "import json\n",
    "import os\n",
    "import pandas as pd\n",
    "\n",
    "import torch\n",
    "import torch.nn as nn\n",
    "import torch.nn.functional as F\n",
    "import torch.optim as optim\n",
    "\n",
    "# GPUを使うために必要\n",
    "device = torch.device(\"cuda\" if torch.cuda.is_available() else \"cpu\")"
   ]
  },
  {
   "cell_type": "code",
   "execution_count": 3,
   "metadata": {
    "id": "Mp1Z7P9pYRSK"
   },
   "outputs": [],
   "source": [
    "# import matplotlib.pyplot as plt\n",
    "\n",
    "# def plot_graphs(history, metric):\n",
    "#   plt.plot(history.history[metric])\n",
    "#   plt.plot(history.history['val_'+metric], '')\n",
    "#   plt.xlabel(\"Epochs\")\n",
    "#   plt.ylabel(metric)\n",
    "#   plt.legend([metric, 'val_'+metric])\n",
    "#   plt.show()"
   ]
  },
  {
   "cell_type": "markdown",
   "metadata": {
    "id": "pRmMubr0jrE2"
   },
   "source": [
    "## Data\n"
   ]
  },
  {
   "cell_type": "markdown",
   "metadata": {
    "id": "pRmMubr0jrE2"
   },
   "source": [
    "### load"
   ]
  },
  {
   "cell_type": "code",
   "execution_count": 4,
   "metadata": {},
   "outputs": [
    {
     "name": "stdout",
     "output_type": "stream",
     "text": [
      "Eigo\n",
      "Suugaku\n"
     ]
    },
    {
     "data": {
      "text/html": [
       "<div>\n",
       "<style scoped>\n",
       "    .dataframe tbody tr th:only-of-type {\n",
       "        vertical-align: middle;\n",
       "    }\n",
       "\n",
       "    .dataframe tbody tr th {\n",
       "        vertical-align: top;\n",
       "    }\n",
       "\n",
       "    .dataframe thead th {\n",
       "        text-align: right;\n",
       "    }\n",
       "</style>\n",
       "<table border=\"1\" class=\"dataframe\">\n",
       "  <thead>\n",
       "    <tr style=\"text-align: right;\">\n",
       "      <th></th>\n",
       "      <th>Unnamed: 0</th>\n",
       "      <th>knowledge_type</th>\n",
       "      <th>&lt;instruction/&gt;</th>\n",
       "      <th>contents</th>\n",
       "    </tr>\n",
       "  </thead>\n",
       "  <tbody>\n",
       "    <tr>\n",
       "      <th>0</th>\n",
       "      <td>0</td>\n",
       "      <td>PRN</td>\n",
       "      <td>次の問い(問１～５)のそれぞれの単語①～④のうちから，アクセント(第一強勢)のある母音の発音...</td>\n",
       "      <td>&lt;label&gt;問１&lt;/label&gt; &lt;ansColumn id=\"A1\"&gt;1&lt;/ansC...</td>\n",
       "    </tr>\n",
       "    <tr>\n",
       "      <th>1</th>\n",
       "      <td>1</td>\n",
       "      <td>PRN</td>\n",
       "      <td>次の問い(問１～５)のそれぞれの単語①～④のうちから，アクセント(第一強勢)のある母音の発音...</td>\n",
       "      <td>&lt;label&gt;問２&lt;/label&gt; &lt;ansColumn id=\"A2\"&gt;2&lt;/ansC...</td>\n",
       "    </tr>\n",
       "    <tr>\n",
       "      <th>2</th>\n",
       "      <td>2</td>\n",
       "      <td>PRN</td>\n",
       "      <td>次の問い(問１～５)のそれぞれの単語①～④のうちから，アクセント(第一強勢)のある母音の発音...</td>\n",
       "      <td>&lt;label&gt;問３&lt;/label&gt; &lt;ansColumn id=\"A3\"&gt;3&lt;/ansC...</td>\n",
       "    </tr>\n",
       "    <tr>\n",
       "      <th>3</th>\n",
       "      <td>3</td>\n",
       "      <td>PRN</td>\n",
       "      <td>次の問い(問１～５)のそれぞれの単語①～④のうちから，アクセント(第一強勢)のある母音の発音...</td>\n",
       "      <td>&lt;label&gt;問４&lt;/label&gt; &lt;ansColumn id=\"A4\"&gt;4&lt;/ansC...</td>\n",
       "    </tr>\n",
       "    <tr>\n",
       "      <th>4</th>\n",
       "      <td>4</td>\n",
       "      <td>PRN</td>\n",
       "      <td>次の問い(問１～５)のそれぞれの単語①～④のうちから，アクセント(第一強勢)のある母音の発音...</td>\n",
       "      <td>&lt;label&gt;問５&lt;/label&gt; &lt;ansColumn id=\"A5\"&gt;5&lt;/ansC...</td>\n",
       "    </tr>\n",
       "    <tr>\n",
       "      <th>...</th>\n",
       "      <td>...</td>\n",
       "      <td>...</td>\n",
       "      <td>...</td>\n",
       "      <td>...</td>\n",
       "    </tr>\n",
       "    <tr>\n",
       "      <th>3028</th>\n",
       "      <td>393</td>\n",
       "      <td>MATH_IIB_VECTOR</td>\n",
       "      <td>三つのベクトル，，について …………………………① …………………………②ア，イに当てはまる...</td>\n",
       "      <td>&lt;label&gt;(2)&lt;/label&gt;  &lt;instruction&gt;&lt;formula /&gt;...</td>\n",
       "    </tr>\n",
       "    <tr>\n",
       "      <th>3029</th>\n",
       "      <td>394</td>\n",
       "      <td>MATH_IIB_VECTOR</td>\n",
       "      <td>により，三角形ABCは正三角形である。以下，4点A，B，C，Dが，正四面体の四つの頂点になる...</td>\n",
       "      <td>&lt;label&gt;(3)&lt;/label&gt;  &lt;instruction&gt;&lt;formula&gt;(x...</td>\n",
       "    </tr>\n",
       "    <tr>\n",
       "      <th>3030</th>\n",
       "      <td>395</td>\n",
       "      <td>IC_O,IC_T,MATH_IIB_STATISTICS</td>\n",
       "      <td>0＜p＜1とする。袋の中に白球がp，赤球が1-pの割合で，全部でm個入っているものとする...</td>\n",
       "      <td>&lt;label&gt;(1)&lt;/label&gt;  &lt;instruction&gt;&lt;formula /&gt;...</td>\n",
       "    </tr>\n",
       "    <tr>\n",
       "      <th>3031</th>\n",
       "      <td>396</td>\n",
       "      <td>IC_O,IC_T,MATH_IIB_STATISTICS</td>\n",
       "      <td>とする。この袋の中から1個の球を取り出し袋の中へ戻すという試行を4回繰り返すとき，白球の出る...</td>\n",
       "      <td>&lt;label&gt;(2)&lt;/label&gt;  &lt;instruction&gt;&lt;formula&gt;m=...</td>\n",
       "    </tr>\n",
       "    <tr>\n",
       "      <th>3032</th>\n",
       "      <td>397</td>\n",
       "      <td>IC_O,IC_T,MATH_IIB_STATISTICS</td>\n",
       "      <td>m=10，とする。この袋の中から同時に4個の球を取り出すとき，白球の個数を表す確率変数をYと...</td>\n",
       "      <td>&lt;label&gt;(3)&lt;/label&gt;  &lt;instruction&gt;以下では，&lt;formu...</td>\n",
       "    </tr>\n",
       "  </tbody>\n",
       "</table>\n",
       "<p>3016 rows × 4 columns</p>\n",
       "</div>"
      ],
      "text/plain": [
       "      Unnamed: 0                 knowledge_type  \\\n",
       "0              0                            PRN   \n",
       "1              1                            PRN   \n",
       "2              2                            PRN   \n",
       "3              3                            PRN   \n",
       "4              4                            PRN   \n",
       "...          ...                            ...   \n",
       "3028         393                MATH_IIB_VECTOR   \n",
       "3029         394                MATH_IIB_VECTOR   \n",
       "3030         395  IC_O,IC_T,MATH_IIB_STATISTICS   \n",
       "3031         396  IC_O,IC_T,MATH_IIB_STATISTICS   \n",
       "3032         397  IC_O,IC_T,MATH_IIB_STATISTICS   \n",
       "\n",
       "                                         <instruction/>  \\\n",
       "0     次の問い(問１～５)のそれぞれの単語①～④のうちから，アクセント(第一強勢)のある母音の発音...   \n",
       "1     次の問い(問１～５)のそれぞれの単語①～④のうちから，アクセント(第一強勢)のある母音の発音...   \n",
       "2     次の問い(問１～５)のそれぞれの単語①～④のうちから，アクセント(第一強勢)のある母音の発音...   \n",
       "3     次の問い(問１～５)のそれぞれの単語①～④のうちから，アクセント(第一強勢)のある母音の発音...   \n",
       "4     次の問い(問１～５)のそれぞれの単語①～④のうちから，アクセント(第一強勢)のある母音の発音...   \n",
       "...                                                 ...   \n",
       "3028  三つのベクトル，，について …………………………① …………………………②ア，イに当てはまる...   \n",
       "3029  により，三角形ABCは正三角形である。以下，4点A，B，C，Dが，正四面体の四つの頂点になる...   \n",
       "3030    0＜p＜1とする。袋の中に白球がp，赤球が1-pの割合で，全部でm個入っているものとする...   \n",
       "3031  とする。この袋の中から1個の球を取り出し袋の中へ戻すという試行を4回繰り返すとき，白球の出る...   \n",
       "3032  m=10，とする。この袋の中から同時に4個の球を取り出すとき，白球の個数を表す確率変数をYと...   \n",
       "\n",
       "                                               contents  \n",
       "0       <label>問１</label> <ansColumn id=\"A1\">1</ansC...  \n",
       "1       <label>問２</label> <ansColumn id=\"A2\">2</ansC...  \n",
       "2       <label>問３</label> <ansColumn id=\"A3\">3</ansC...  \n",
       "3       <label>問４</label> <ansColumn id=\"A4\">4</ansC...  \n",
       "4       <label>問５</label> <ansColumn id=\"A5\">5</ansC...  \n",
       "...                                                 ...  \n",
       "3028    <label>(2)</label>  <instruction><formula />...  \n",
       "3029    <label>(3)</label>  <instruction><formula>(x...  \n",
       "3030    <label>(1)</label>  <instruction><formula />...  \n",
       "3031    <label>(2)</label>  <instruction><formula>m=...  \n",
       "3032    <label>(3)</label>  <instruction>以下では，<formu...  \n",
       "\n",
       "[3016 rows x 4 columns]"
      ]
     },
     "execution_count": 4,
     "metadata": {},
     "output_type": "execute_result"
    }
   ],
   "source": [
    "sbj_names = [\n",
    "#     ['Eigo']\n",
    "#     ['Suugaku']\n",
    "    ['Eigo', 'Suugaku']\n",
    "][0]\n",
    "elmnt_name = 'question'\n",
    "attr_name = 'knowledge_type'  # 'answer_type'   #\n",
    "\n",
    "df = None\n",
    "for sbj in sbj_names:\n",
    "    print(sbj)\n",
    "    attr_csv_path = f'../{sbj}_{attr_name}_ds.tsv'\n",
    "    df_tmp = pd.read_csv(attr_csv_path, delimiter='\\t')\n",
    "    df = pd.concat([df, df_tmp])\n",
    "\n",
    "df = df.reset_index(drop=True)\n",
    "df = df.dropna()  # nan を削除\n",
    "df"
   ]
  },
  {
   "cell_type": "markdown",
   "metadata": {
    "id": "pRmMubr0jrE2"
   },
   "source": [
    "### Tokenize\n",
    "SentencePiece を使用。\n",
    "- タグ あり／なし"
   ]
  },
  {
   "cell_type": "code",
   "execution_count": 5,
   "metadata": {
    "id": "SHRwRoP2nVHX"
   },
   "outputs": [
    {
     "data": {
      "text/html": [
       "<div>\n",
       "<style scoped>\n",
       "    .dataframe tbody tr th:only-of-type {\n",
       "        vertical-align: middle;\n",
       "    }\n",
       "\n",
       "    .dataframe tbody tr th {\n",
       "        vertical-align: top;\n",
       "    }\n",
       "\n",
       "    .dataframe thead th {\n",
       "        text-align: right;\n",
       "    }\n",
       "</style>\n",
       "<table border=\"1\" class=\"dataframe\">\n",
       "  <thead>\n",
       "    <tr style=\"text-align: right;\">\n",
       "      <th></th>\n",
       "      <th>Unnamed: 0</th>\n",
       "      <th>knowledge_type</th>\n",
       "      <th>&lt;instruction/&gt;</th>\n",
       "      <th>contents</th>\n",
       "    </tr>\n",
       "  </thead>\n",
       "  <tbody>\n",
       "    <tr>\n",
       "      <th>270</th>\n",
       "      <td>270</td>\n",
       "      <td>R_QA</td>\n",
       "      <td>１～４)の空欄( 42 ～ 45 )に入れるのに最も適当なものを，それぞれ以下の①～④のうち...</td>\n",
       "      <td>&lt;label&gt;問１&lt;/label&gt;&lt;data id=\"D29\" type=\"text\"&gt;Wh...</td>\n",
       "    </tr>\n",
       "    <tr>\n",
       "      <th>2351</th>\n",
       "      <td>2351</td>\n",
       "      <td>DIS_W,R_ENT</td>\n",
       "      <td>次の文章を読み，下の問い（Ａ・Ｂ）に答えよ。なお，文章の左にある(1)～(6)は段落の番...</td>\n",
       "      <td>&lt;label&gt;問５&lt;/label&gt;&lt;data id=\"D48\" type=\"text\"&gt; T...</td>\n",
       "    </tr>\n",
       "    <tr>\n",
       "      <th>1431</th>\n",
       "      <td>1431</td>\n",
       "      <td>DIS_S</td>\n",
       "      <td>次の問い(問１・問２)において，文章の 28 ・ 29 に入れる三つの文が，順不同で以下のA...</td>\n",
       "      <td>&lt;label&gt;問１&lt;/label&gt;  &lt;data id=\"D22\" type=\"text...</td>\n",
       "    </tr>\n",
       "    <tr>\n",
       "      <th>475</th>\n",
       "      <td>475</td>\n",
       "      <td>DIS_S, IC_O</td>\n",
       "      <td>(配点 16)</td>\n",
       "      <td>&lt;label&gt;問３&lt;/label&gt;&lt;ansColumn id=\"A44\"&gt;44&lt;/ansCo...</td>\n",
       "    </tr>\n",
       "    <tr>\n",
       "      <th>532</th>\n",
       "      <td>532</td>\n",
       "      <td>DIS_S, R_ENT</td>\n",
       "      <td>(配点 24)</td>\n",
       "      <td>&lt;label&gt;問３&lt;/label&gt;&lt;data id=\"D43\" type=\"text\"&gt;Th...</td>\n",
       "    </tr>\n",
       "  </tbody>\n",
       "</table>\n",
       "</div>"
      ],
      "text/plain": [
       "      Unnamed: 0 knowledge_type  \\\n",
       "270          270           R_QA   \n",
       "2351        2351    DIS_W,R_ENT   \n",
       "1431        1431          DIS_S   \n",
       "475          475    DIS_S, IC_O   \n",
       "532          532   DIS_S, R_ENT   \n",
       "\n",
       "                                         <instruction/>  \\\n",
       "270   １～４)の空欄( 42 ～ 45 )に入れるのに最も適当なものを，それぞれ以下の①～④のうち...   \n",
       "2351    次の文章を読み，下の問い（Ａ・Ｂ）に答えよ。なお，文章の左にある(1)～(6)は段落の番...   \n",
       "1431  次の問い(問１・問２)において，文章の 28 ・ 29 に入れる三つの文が，順不同で以下のA...   \n",
       "475                                            (配点 16)    \n",
       "532                                            (配点 24)    \n",
       "\n",
       "                                               contents  \n",
       "270   <label>問１</label><data id=\"D29\" type=\"text\">Wh...  \n",
       "2351  <label>問５</label><data id=\"D48\" type=\"text\"> T...  \n",
       "1431    <label>問１</label>  <data id=\"D22\" type=\"text...  \n",
       "475   <label>問３</label><ansColumn id=\"A44\">44</ansCo...  \n",
       "532   <label>問３</label><data id=\"D43\" type=\"text\">Th...  "
      ]
     },
     "execution_count": 5,
     "metadata": {},
     "output_type": "execute_result"
    }
   ],
   "source": [
    "from sklearn.model_selection import train_test_split\n",
    "\n",
    "train_examples, test_examples = train_test_split(\n",
    "                                    df, test_size=0.4, random_state=0)\n",
    "train_examples.head(5)"
   ]
  },
  {
   "cell_type": "code",
   "execution_count": 6,
   "metadata": {},
   "outputs": [
    {
     "data": {
      "text/plain": [
       "'次の一連の文章(問１・２)の中の①～③および④～⑥には，それぞれ強く発音されるべき語が一つずつある。その語を選べ。'"
      ]
     },
     "execution_count": 6,
     "metadata": {},
     "output_type": "execute_result"
    }
   ],
   "source": [
    "df_tmp = df[['<instruction/>', 'contents']]\n",
    "df_tmp['<instruction/>'][6]"
   ]
  },
  {
   "cell_type": "code",
   "execution_count": 7,
   "metadata": {},
   "outputs": [
    {
     "data": {
      "text/plain": [
       "True"
      ]
     },
     "execution_count": 7,
     "metadata": {},
     "output_type": "execute_result"
    }
   ],
   "source": [
    "m_dir = 'model/SentencePiece'\n",
    "os.makedirs(m_dir, exist_ok=True)\n",
    "df.to_csv(f'{m_dir}/tmp.txt', sep='\\t')\n",
    "\n",
    "# arg_str = '--input={m_dir}/tmp.txt --model_prefix={m_dir}/m_user ' + '--user_defined_symbols=<sep>,<cls>' + ',<ansColumn/>,<label>' + ' --vocab_size=2000'\n",
    "# spm.SentencePieceTrainer.train(arg_str)\n",
    "\n",
    "spm.SentencePieceTrainer.train(f'--input={m_dir}/tmp.txt --model_prefix={m_dir}/m  --user_defined_symbols=<sep>,<cls>,<pad>   --vocab_size=2000')\n",
    "sp = spm.SentencePieceProcessor()  # model_file='SentencePiece/test_model.model'\n",
    "\n",
    "sp.load(f'{m_dir}/m.model')"
   ]
  },
  {
   "cell_type": "code",
   "execution_count": 8,
   "metadata": {},
   "outputs": [
    {
     "name": "stdout",
     "output_type": "stream",
     "text": [
      "['▁次の問い', '(', '問', '1～3)', 'の会話の', '▁17', '▁～', '▁19', '▁に入れるのに最も適当な', 'ものを', ',', 'それぞれ以下の', '1～4', 'のうちから一つずつ選', 'べ', '。']\n",
      "[70, 32, 29, 188, 609, 197, 79, 218, 169, 64, 20, 93, 59, 66, 58, 35]\n",
      "次の問い(問1～3)の会話の 17 ～ 19 に入れるのに最も適当なものを,それぞれ以下の1～4のうちから一つずつ選べ。\n"
     ]
    }
   ],
   "source": [
    "# encode: text => id\n",
    "tokenized_tokens =  sp.encode_as_pieces('次の問い(問１～３)の会話の 17 ～ 19 に入れるのに最も適当なものを，それぞれ以下の①～④のうちから一つずつ選べ。\t')\n",
    "print(tokenized_tokens)\n",
    "\n",
    "tokenized_ids = sp.encode_as_ids('次の問い(問１～３)の会話の 17 ～ 19 に入れるのに最も適当なものを，それぞれ以下の①～④のうちから一つずつ選べ。\t')\n",
    "print(tokenized_ids)\n",
    "\n",
    "decoded_text = sp.decode(tokenized_ids)\n",
    "print(decoded_text)"
   ]
  },
  {
   "cell_type": "code",
   "execution_count": 9,
   "metadata": {},
   "outputs": [
    {
     "name": "stdout",
     "output_type": "stream",
     "text": [
      "  <label>問14</label>  <data id=\"D20\" type=\"text\"> <ansColumn id=\"A21\">21</ansColumn></data>  <choices anscol=\"A21\" comment=\"\"> <choice><cNum>①</cNum> Yes, thank you.  </choice> <choice><cNum>②</cNum> Yes, that's O.K.  </choice> <choice><cNum>③</cNum> Not at all.  </choice> <choice><cNum>④</cNum> I'd be glad to.  </choice> </choices> ['▁<', 'label', '>', '問', '14', '</', 'label', '>', '▁<', 'data', '▁id', '=', '\"', 'D', '20', '\"', '▁type', '=', '\"', 'text', '\"', '>', '▁<', 'ansColumn', '▁id', '=', '\"', 'A', '21', '\"', '>21</', 'ansColumn', '></', 'data', '>', '▁<', 'choices', '▁ans', 'col', '=', '\"', 'A', '21', '\"', '▁comment', '=\"\"', '>', '▁<', 'choice', '><', 'c', 'Num', '>1</', 'c', 'Num', '>', '▁Yes', ',', '▁than', 'k', '▁you', '.', '▁</', 'choice', '>', '▁<', 'choice', '><', 'c', 'Num', '>2</', 'c', 'Num', '>', '▁Yes', ',', '▁that', \"'\", 's', '▁', 'O', '.', 'K', '.', '▁</', 'choice', '>', '▁<', 'choice', '><', 'c', 'Num', '>3</', 'c', 'Num', '>', '▁No', 't', '▁at', '▁all', '.', '▁</', 'choice', '>', '▁<', 'choice', '><', 'c', 'Num', '>4</', 'c', 'Num', '>', '▁I', \"'\", 'd', '▁be', '▁', 'g', 'l', 'a', 'd', '▁to', '.', '▁</', 'choice', '>', '▁</', 'choices', '>']\n"
     ]
    }
   ],
   "source": [
    "example_content = df_tmp['contents'][20]\n",
    "print(example_content, sp.encode_as_pieces(example_content))"
   ]
  },
  {
   "cell_type": "code",
   "execution_count": 10,
   "metadata": {
    "id": "MDVc6UGO5Dh6"
   },
   "outputs": [],
   "source": [
    "# for index in encoded_string:\n",
    "#   print('{} ----> {}'.format(index, encoder.decode([index])))"
   ]
  },
  {
   "cell_type": "markdown",
   "metadata": {
    "id": "GlYWqhTVlUyQ"
   },
   "source": [
    "## Train 用データの準備"
   ]
  },
  {
   "cell_type": "code",
   "execution_count": 11,
   "metadata": {
    "id": "VznrltNOnUc5"
   },
   "outputs": [
    {
     "name": "stdout",
     "output_type": "stream",
     "text": [
      "vocab size :  2163\n"
     ]
    }
   ],
   "source": [
    "word2index = {}\n",
    "# 系列を揃えるためのパディング文字列<pad>を追加\n",
    "# パディング文字列のIDは0とする\n",
    "word2index.update({\"<pad>\":0})\n",
    "\n",
    "for inst, cont in zip(df['<instruction/>'], df['contents']):\n",
    "#     try:\n",
    "    tokens = sp.encode_as_pieces(inst + cont)\n",
    "    for word in tokens:\n",
    "            if word in word2index: continue\n",
    "            word2index[word] = len(word2index)\n",
    "#     except TypeError:\n",
    "#         print(f'[Error] <instruction/> が nan です。')\n",
    "#         print(f'    inst : {inst}')\n",
    "#         print(f'    cont : {cont}')\n",
    "\n",
    "print(\"vocab size : \", len(word2index))\n"
   ]
  },
  {
   "cell_type": "code",
   "execution_count": 12,
   "metadata": {},
   "outputs": [
    {
     "name": "stdout",
     "output_type": "stream",
     "text": [
      "['R_ENT,IC_G,IC_P', 'DIS_W, R_ENT, R_SUM, IC_O', 'DIS_O', 'SEL, EG', 'SEL, DIS_W', 'GK,Other', 'R_QA, R_ENT, R_SUM', 'DIS_W,R_QA', 'EG, ', 'DIS_W, R_ENT, IC_T', 'IC_O,MATH_IIB_VECTOR', 'Other,IC_T', 'DIS_C, GK', 'MATH_IIB_VECTOR', 'DIC_O,GK', 'DIC_O, EG', 'IDM, SEL, DIS_W', 'IDM,GK', 'DIS_W, R_ENT, IC_G', 'EG, GK', 'DIS_O, DIS_W, GK', 'DIC_O, DIS_W, GK', 'R_QA, IC_P', 'SEL,EG,DIS_W', 'MATH_IA_SET_LOGIC,IC_G,IC_T', 'MATH_IA_SET_LOGIC,IC_G', 'IDM, SEL, DIS_W, GK', 'IDM, EG, DIS_W, GK', 'DIS_W,GK', 'R_QA, IC_O', 'DIC_O, DIS_S, R_ENT', 'R_ENT,DIS_W', 'DIS_S, R_ENT, IC_M', 'MATH_IIB_TRIGONOMETRY', 'MATH_IA_SET_LOGIC,IC_G,IC_O', 'IDM, EG, DIS_S', 'DIS_S, R_ENT, R_SUM', 'FOC_1', 'DIS_S, R_ENT, IC_O', 'DIS_W, R_ENT', 'IDM, EG, GK', 'R_SUM,IC_T', 'DIS_S', 'IDM', 'DIS_W, R_QA', 'DIS_S,R_QA', 'MATH_IIB_STATISTICS', 'MATH_IA_PROBABILITY,IC_O', 'R_ENT,IC_P', 'EG, DIS_W, GK', 'DIS_W,R_ENT', 'R_QA,IC_O', 'DIS_O, Other', 'MATH_IA_GEOMETRY', 'DIS_S, IC_O', 'DIS_S, R_ENT, IC_T', 'Other', 'IDM,SEL,EG,DIS_W,IC_T', 'R_ENT, IC_P', 'MATH_IIB_GEOMETRY', 'DIS_S, R_ENT, IC_G', 'IC_G,IC_O,MATH_IIB_STATISTICS', 'DIS_W, R_ENT, IC_P, IC_T', 'DIS_W,R_ENT,IC_P', 'IC_O,MATH_IA_PROBABILITY', 'MATH_IIB_POLY', 'DIS_W, R_ENT, IC_O', 'R_ENT, IC_T', 'R_QA, IC_M', 'DIC_O,DIS_W', 'R_QA, IC_T', 'R_ENT', 'R_QA,IC_T', 'IC_O,IC_T,MATH_IIB_STATISTICS', 'IDM, EG', 'IC_T,DIS_W,R_SUM', 'FOC_1 ', 'R_ENT, IC_M', 'Other,IC_T,IC_O', 'EG,SEL', 'SEL, GK', 'SEL, EG, DIS_W', 'R_RA, IC_P', 'DIS_W, GK', 'DIC_O, DIS_W', 'SEL, EG, GK', 'DIS_W,R_SUM', 'SEL, EG ', 'MATH_IIB_STATISTICS,IC_G,IC_T', 'MATH_IIB_NUMSEQ', 'IDM, SEL, EG', 'R_QA', 'IDM, SEL, EG, DIS_W', 'MATH_IA_EQ', 'DIS_W, R_ENT, IC_P', 'SEL,EG,DIS_W,IDM', 'EG,DIS_W', 'DIS_W,EG', 'DIS_S,R_ENT', 'DIS_O, DIS_W', 'DIS_W', 'DIC_O, GK', 'IDM,SEL,EG,DIS_W', 'R_ENT,IC_T', 'MATH_IA_SET_LOGIC', 'IC_G,MATH_IIB_STATISTICS', 'SEL, DIC_O', 'R_ENT,IC_O', 'R_QA,IC_P', 'MATH_IIB_COMPUTER', 'IC_T,IC_O,MATH_IIB_STATISTICS', 'IDM, DIS_W', 'DIC_O, SEL', 'R_QA, R_SUM', 'MATH_IIB_EXPLOG', 'DIS_W,DIC_O', 'MATH_IA_SET_LOGIC,IC_T', 'SEL,EG,DIS_W,IDM,IC_T', 'R_QA,IC_P,IC_T', 'DIS_W, R_ENT, IC_O, IC_P', 'SEL', 'EG', 'MATH_IA_PARABOLA', 'IC_T,MATH_IIB_STATISTICS', 'SEL,DIS_W', 'DIC_O, EG, DIS_W', 'IDM, EG, DIS_W', 'MATH_IIB_CALCULUS', 'IDM, SEL, EG, GK', 'DIC_O', 'R_ENT, IC_O', 'DIC_O, Other', 'DIS_S, R_ENT', 'DIS_S,R_ENT,R_SUM', 'IDM, DIC_O, EG', 'SEL, DIC_O, EG', 'DIS_W, R_ENT, R_SUM', 'DIS_W,IC_P', 'IDM,DIC_O', 'R_ENT,IC_G', 'R_ENT,IC_T,IC_O', 'R_QA, IC_G', 'IDM,DIS_W', 'MATH_IIB_POLY,MATH_IIB_EXPLOG', 'DIS_W, R_ENT, IC_G, IC_P', 'IDM, SEL, EG, DIS_W, GK', 'R_O, EG, DIS_W', 'R_SUM', 'R_QA,IC_T,IC_O', 'R_ENT,IC_P,DIS_S', 'EG, DIS_S', 'SEL, EG,  DIS_W', 'FOC_2', 'IC_T,IC_G,MATH_IIB_STATISTICS', 'R_ENT, IC_G', 'EG, DIS_W', 'PRN', 'IDM, SEL', 'DIS_W,R_SUM,IC_T', 'DIS_O, GK', 'MATH_IA_PROBABILITY', 'IC_T,MATH_IIB_COMPUTER', 'R_ENT,DIS_S', 'R_QA,IC_G', 'R_QA,IC_G,IC_P', 'R_QA,IC_P,DIS_S', 'DIC_O, EG, GK', 'DIS_W, R_ENT, IC_M']\n",
      "168\n"
     ]
    }
   ],
   "source": [
    "## set_dict から自動抽出する！\n",
    "# attr_name = 'knowledge_type'  # 'answer_type'\n",
    "\n",
    "categories = set()\n",
    "for sbj in sbj_names:\n",
    "    with open(f'../class_set/{sbj}-{elmnt_name}-{attr_name}.json') as f:\n",
    "        categories |= set(json.load(f))   # sbj_names = ['Eigo', ]\n",
    "\n",
    "# print(categories)\n",
    "\n",
    "# categories = [\n",
    "#     'sentence', \n",
    "#     'term_person', 'term_location', 'term_time', 'term_other',\n",
    "#     'referenceSymbol',\n",
    "#     'image_graph', 'image_photo', 'image_map', 'image_table', 'image_other',\n",
    "#     'formula', \n",
    "#     'orthography',\n",
    "#     'other',\n",
    "#     # 組み合わせ系（仮追加）\n",
    "#     '(symbol-sentence)*2', '(symbol-sentence)*3', '(symbol-sentence)*4', '(symbol-term_location)*3', '(symbol-term_other)*3', '(symbol-term_other)*3',\n",
    "#     '(symbol-symbol)*4',\n",
    "#     '(term_location-term_location-term_location)', 'term_location-term_location-term_location-term_location',\n",
    "#     '(term_location-term_location-term_location)', '(term_location-term_location-term_location)',\n",
    "#     '(term_other-term_other-term_other)',\n",
    "#     'term_other-term_other-term_other',\n",
    "#     'sentence-sentence',\n",
    "#     'sentence-sentence-sentence',\n",
    "#     'symbol-symbol',\n",
    "#     'symbol-symbol-symbol',\n",
    "#     'symbol-symbol-symbol-symbol',\n",
    "#     'o(symbol-symbol-symbol-symbol)',\n",
    "#     'o(symbol-symbol-symbol)',\n",
    "# ]\n",
    "\n",
    "categories = list(categories)\n",
    "print(categories)\n",
    "print(len(categories))"
   ]
  },
  {
   "cell_type": "code",
   "execution_count": 13,
   "metadata": {
    "id": "8lgLRE0z4Opm",
    "tags": []
   },
   "outputs": [],
   "source": [
    "## 系列の長さを揃えてバッチでまとめる\n",
    "from sklearn.model_selection import train_test_split\n",
    "import random\n",
    "from sklearn.utils import shuffle\n",
    "\n",
    "cat2index = {}\n",
    "for cat in categories:\n",
    "    if cat in cat2index: continue\n",
    "    cat2index[cat] = len(cat2index)\n",
    "\n",
    "def sentence2index(sentence):\n",
    "    tokens = sp.encode_as_pieces(sentence)\n",
    "    # print(tokens)\n",
    "    return [word2index[w] for w in tokens]\n",
    "\n",
    "def category2index(cat):\n",
    "    return [cat2index[cat]]\n",
    "\n",
    "index_datasets_c_xml_tmp = []\n",
    "index_datasets_category = []\n",
    "\n",
    "# 系列の長さの最大値を取得。この長さに他の系列の長さをあわせる\n",
    "max_len = 0\n",
    "for inst, cont, category in zip(df['<instruction/>'], df['contents'], df[attr_name]):\n",
    "    index_c_xml = sentence2index(inst + cont)\n",
    "    index_category = category2index(category)\n",
    "    index_datasets_c_xml_tmp.append(index_c_xml)\n",
    "    index_datasets_category.append(index_category)\n",
    "    if max_len < len(index_c_xml):\n",
    "        max_len = len(index_c_xml)\n",
    "\n",
    "# 系列の長さを揃えるために短い系列にパディングを追加\n",
    "# 後ろパディングだと正しく学習できなかったので、前パディング\n",
    "index_datasets_c_xml = []\n",
    "for c_xml in index_datasets_c_xml_tmp:\n",
    "    for i in range(max_len - len(c_xml)):\n",
    "        c_xml.insert(0, 0) # 前パディング\n",
    "#     c_xml.append(0)　# 後ろパディング\n",
    "    index_datasets_c_xml.append(c_xml)\n",
    "\n",
    "train_x, test_x, train_y, test_y = train_test_split(index_datasets_c_xml, index_datasets_category, train_size=0.7)\n",
    "\n",
    "# データをバッチでまとめるための関数\n",
    "def train2batch(c_xml, category, batch_size=100):\n",
    "    c_xml_batch = []\n",
    "    category_batch = []\n",
    "    c_xml_shuffle, category_shuffle = shuffle(c_xml, category)\n",
    "    for i in range(0, len(c_xml), batch_size):\n",
    "        c_xml_batch.append(c_xml_shuffle[i:i+batch_size])\n",
    "        category_batch.append(category_shuffle[i:i+batch_size])\n",
    "    return c_xml_batch, category_batch"
   ]
  },
  {
   "cell_type": "markdown",
   "metadata": {
    "id": "bjUqGVBxGw-t"
   },
   "source": [
    "## Model"
   ]
  },
  {
   "cell_type": "code",
   "execution_count": 14,
   "metadata": {
    "id": "LwfoBkmRYcP3"
   },
   "outputs": [],
   "source": [
    "class LSTMClassifier(nn.Module):\n",
    "    def __init__(self, embedding_dim, hidden_dim, vocab_size, tagset_size):\n",
    "        super(LSTMClassifier, self).__init__()\n",
    "        self.hidden_dim = hidden_dim\n",
    "        # <pad>の単語IDが0なので、padding_idx=0としている\n",
    "        self.word_embeddings = nn.Embedding(vocab_size, embedding_dim, padding_idx=0)\n",
    "        # batch_first=Trueが大事！\n",
    "        self.lstm = nn.LSTM(embedding_dim, hidden_dim, batch_first=True)\n",
    "        self.hidden2tag = nn.Linear(hidden_dim, tagset_size)\n",
    "        self.softmax = nn.LogSoftmax()\n",
    "\n",
    "    def forward(self, sentence):\n",
    "        embeds = self.word_embeddings(sentence)\n",
    "        #embeds.size() = (batch_size × len(sentence) × embedding_dim)\n",
    "        _, lstm_out = self.lstm(embeds)\n",
    "        # lstm_out[0].size() = (1 × batch_size × hidden_dim)\n",
    "        tag_space = self.hidden2tag(lstm_out[0])\n",
    "        # tag_space.size() = (1 × batch_size × tagset_size)\n",
    "\n",
    "        # (batch_size × tagset_size)にするためにsqueeze()する\n",
    "        tag_scores = self.softmax(tag_space.squeeze())\n",
    "        # tag_scores.size() = (batch_size × tagset_size)\n",
    "\n",
    "        return tag_scores  \n",
    "\n",
    "    def load_weights(self, load_m_path='_logs/test/LSTM_classifier.pth',):\n",
    "        if load_m_path is not None:\n",
    "            param = torch.load(load_m_path)\n",
    "            self.load_state_dict(param)\n",
    "            print(f'[info] {load_m_path} loaded !')\n",
    "\n",
    "    def save(self, save_f_path='_logs/test/LSTM_classifier.pth',):\n",
    "        torch.save(self.state_dict(), save_f_path)\n",
    "\n",
    "    \n",
    "# 単語の埋め込み次元数上げた。精度がそこそこアップ！ハイパーパラメータのチューニング大事。\n",
    "EMBEDDING_DIM = 200\n",
    "HIDDEN_DIM = 128\n",
    "VOCAB_SIZE = len(word2index)\n",
    "TAG_SIZE = len(categories)\n",
    "\n",
    "model = LSTMClassifier(EMBEDDING_DIM, HIDDEN_DIM, VOCAB_SIZE, TAG_SIZE).to(device)\n",
    "\n",
    "loss_function = nn.NLLLoss()\n",
    "# SGDからAdamに変更。特に意味はなし\n",
    "optimizer = optim.Adam(model.parameters(), lr=0.001)\n",
    "\n",
    "## モデルの保存場所を準備する。\n",
    "import datetime\n",
    "dt_now = datetime.datetime.now()\n",
    "save_m_dir = os.path.join('_logs', dt_now.strftime('%Y-%m-%d_%Hh%Mm%Ss'))\n",
    "save_m_path = os.path.join(save_m_dir, 'LSTM_classifier_.pth')\n",
    "os.makedirs(save_m_dir, exist_ok=True)"
   ]
  },
  {
   "cell_type": "markdown",
   "metadata": {
    "id": "zIwH3nto596k"
   },
   "source": [
    "## Experiment Train"
   ]
  },
  {
   "cell_type": "code",
   "execution_count": null,
   "metadata": {},
   "outputs": [
    {
     "name": "stderr",
     "output_type": "stream",
     "text": [
      "/usr/local/lib/python3.6/dist-packages/ipykernel_launcher.py:21: UserWarning: Implicit dimension choice for log_softmax has been deprecated. Change the call to include dim=X as an argument.\n"
     ]
    },
    {
     "name": "stdout",
     "output_type": "stream",
     "text": [
      "epoch 0 \t loss 95.50269174575806\n",
      "epoch 1 \t loss 81.25502109527588\n",
      "epoch 2 \t loss 76.38460779190063\n",
      "epoch 3 \t loss 67.69047808647156\n",
      "epoch 4 \t loss 59.17237377166748\n",
      "epoch 5 \t loss 53.95864295959473\n",
      "epoch 6 \t loss 49.98704493045807\n",
      "epoch 7 \t loss 46.19981861114502\n",
      "epoch 8 \t loss 43.47021985054016\n",
      "epoch 9 \t loss 40.71964740753174\n",
      "epoch 10 \t loss 39.68160915374756\n",
      "epoch 11 \t loss 37.06717872619629\n",
      "epoch 12 \t loss 33.15812975168228\n",
      "epoch 13 \t loss 30.99098777770996\n",
      "epoch 14 \t loss 29.023929953575134\n",
      "epoch 15 \t loss 27.11479413509369\n",
      "epoch 16 \t loss 25.550770461559296\n",
      "epoch 17 \t loss 24.223787665367126\n",
      "epoch 18 \t loss 22.18769747018814\n",
      "epoch 19 \t loss 20.248188853263855\n",
      "epoch 20 \t loss 19.122029423713684\n",
      "epoch 21 \t loss 17.104594588279724\n",
      "epoch 22 \t loss 15.437900960445404\n",
      "epoch 23 \t loss 14.511737018823624\n",
      "epoch 24 \t loss 13.593076020479202\n",
      "epoch 25 \t loss 12.165831297636032\n",
      "epoch 28 \t loss 11.767198830842972\n",
      "epoch 29 \t loss 10.157331198453903\n",
      "epoch 30 \t loss 9.040478348731995\n",
      "epoch 31 \t loss 8.140569597482681\n",
      "epoch 32 \t loss 7.350845940411091\n",
      "epoch 34 \t loss 6.252210363745689\n",
      "epoch 35 \t loss 5.960863351821899\n",
      "epoch 36 \t loss 5.883734874427319\n",
      "epoch 37 \t loss 6.1245715618133545\n",
      "epoch 38 \t loss 5.776688054203987\n",
      "epoch 39 \t loss 5.864426091313362\n",
      "epoch 40 \t loss 4.944529056549072\n",
      "epoch 41 \t loss 4.653380066156387\n",
      "epoch 42 \t loss 4.046452112495899\n",
      "epoch 43 \t loss 3.7368966601788998\n",
      "epoch 44 \t loss 3.753748208284378\n",
      "epoch 45 \t loss 3.409500978887081\n",
      "epoch 46 \t loss 3.1969904266297817\n",
      "epoch 47 \t loss 3.244780071079731\n",
      "epoch 48 \t loss 3.1996257975697517\n",
      "epoch 49 \t loss 3.0898078083992004\n",
      "epoch 50 \t loss 2.810543365776539\n",
      "epoch 51 \t loss 3.088985286653042\n",
      "epoch 52 \t loss 3.297837808728218\n",
      "epoch 53 \t loss 2.8675405606627464\n",
      "epoch 54 \t loss 2.8680623956024647\n",
      "epoch 55 \t loss 2.718048505485058\n",
      "epoch 56 \t loss 2.4369261898100376\n",
      "epoch 57 \t loss 2.4286994226276875\n",
      "epoch 58 \t loss 2.5823938474059105\n",
      "epoch 59 \t loss 2.457319278270006\n",
      "epoch 60 \t loss 2.6380079984664917\n",
      "epoch 61 \t loss 2.847031109035015\n",
      "epoch 62 \t loss 3.171041339635849\n",
      "epoch 63 \t loss 2.5819387286901474\n",
      "epoch 64 \t loss 2.148037802428007\n",
      "epoch 65 \t loss 2.198803221806884\n",
      "epoch 66 \t loss 2.166544921696186\n",
      "epoch 67 \t loss 1.964122485369444\n",
      "epoch 68 \t loss 1.8009674102067947\n",
      "epoch 69 \t loss 1.7955867275595665\n",
      "epoch 70 \t loss 1.7591080963611603\n",
      "epoch 71 \t loss 1.6672736145555973\n",
      "epoch 72 \t loss 1.6152432598173618\n",
      "epoch 73 \t loss 1.7795910499989986\n",
      "epoch 74 \t loss 1.7506345473229885\n",
      "epoch 75 \t loss 1.6546195521950722\n",
      "epoch 76 \t loss 1.4813586361706257\n",
      "epoch 77 \t loss 1.4009585287421942\n",
      "epoch 78 \t loss 1.6538758166134357\n",
      "epoch 79 \t loss 1.8266370259225368\n",
      "epoch 80 \t loss 1.7433597184717655\n",
      "epoch 81 \t loss 1.5111581962555647\n",
      "epoch 82 \t loss 1.712777204811573\n",
      "epoch 83 \t loss 1.5241928808391094\n",
      "epoch 84 \t loss 2.0607926789671183\n",
      "epoch 85 \t loss 1.8168686851859093\n",
      "epoch 86 \t loss 1.689876914024353\n",
      "epoch 87 \t loss 1.9097112081944942\n",
      "epoch 88 \t loss 1.506038462743163\n",
      "epoch 89 \t loss 1.3660757150501013\n",
      "epoch 90 \t loss 1.460922546684742\n",
      "epoch 91 \t loss 1.2182502634823322\n",
      "epoch 92 \t loss 1.203216115012765\n",
      "epoch 93 \t loss 1.1575345071032643\n",
      "epoch 94 \t loss 0.993457293137908\n",
      "epoch 95 \t loss 0.8912974521517754\n",
      "epoch 96 \t loss 0.8309138724580407\n",
      "epoch 97 \t loss 0.8056262759491801\n",
      "epoch 98 \t loss 0.7833210281096399\n",
      "epoch 99 \t loss 0.8293069340288639\n",
      "epoch 100 \t loss 0.754724238999188\n",
      "epoch 101 \t loss 0.7269942527636886\n",
      "epoch 102 \t loss 0.6570367310196161\n",
      "epoch 103 \t loss 0.6825403422117233\n",
      "epoch 104 \t loss 0.7565023736096919\n",
      "epoch 105 \t loss 0.7491440116427839\n",
      "epoch 106 \t loss 0.6836639102548361\n",
      "epoch 107 \t loss 0.6583327096886933\n",
      "epoch 108 \t loss 0.631746300496161\n",
      "epoch 109 \t loss 0.6860423535108566\n",
      "epoch 110 \t loss 0.571083307499066\n",
      "epoch 111 \t loss 0.5802252921275795\n",
      "epoch 112 \t loss 0.6675888961181045\n",
      "epoch 113 \t loss 0.5693607605062425\n",
      "epoch 114 \t loss 0.5879406379535794\n",
      "epoch 115 \t loss 0.5553444121032953\n",
      "epoch 116 \t loss 0.5098453424870968\n",
      "epoch 117 \t loss 0.48525223694741726\n",
      "epoch 118 \t loss 0.46820435393601656\n",
      "epoch 119 \t loss 0.4924583313986659\n",
      "epoch 120 \t loss 0.433991065248847\n",
      "epoch 121 \t loss 0.4304535808041692\n",
      "epoch 122 \t loss 0.6748024569824338\n",
      "epoch 123 \t loss 0.68050501588732\n",
      "epoch 124 \t loss 2.2372544445097446\n",
      "epoch 125 \t loss 4.924982130527496\n",
      "epoch 126 \t loss 3.6769991079345345\n",
      "epoch 127 \t loss 2.2425622791051865\n",
      "epoch 128 \t loss 1.5337265450507402\n",
      "epoch 129 \t loss 1.5298773441463709\n",
      "epoch 130 \t loss 1.7601086236536503\n",
      "epoch 131 \t loss 1.911249566823244\n",
      "epoch 132 \t loss 1.3365696799010038\n",
      "epoch 133 \t loss 0.8737759990617633\n",
      "epoch 134 \t loss 0.7382312975823879\n",
      "epoch 135 \t loss 0.9000161290168762\n",
      "epoch 136 \t loss 0.8785458761267364\n",
      "epoch 137 \t loss 0.7108157742768526\n",
      "epoch 138 \t loss 0.6487986529245973\n",
      "epoch 139 \t loss 0.5978626753203571\n",
      "epoch 140 \t loss 0.5979056917130947\n",
      "epoch 141 \t loss 0.4936659075319767\n",
      "epoch 142 \t loss 0.4833026248961687\n",
      "epoch 143 \t loss 0.46128140296787024\n",
      "epoch 144 \t loss 0.414512331597507\n",
      "epoch 145 \t loss 0.5104082184843719\n",
      "epoch 146 \t loss 0.4015398737974465\n",
      "epoch 147 \t loss 0.39390196464955807\n",
      "epoch 148 \t loss 0.34078187262639403\n",
      "epoch 149 \t loss 0.5033630155958235\n",
      "epoch 150 \t loss 0.3691908856853843\n",
      "epoch 151 \t loss 0.3560846741311252\n",
      "epoch 152 \t loss 0.33624719362705946\n",
      "epoch 153 \t loss 0.7414840329438448\n",
      "epoch 156 \t loss 0.4270084220916033\n",
      "epoch 157 \t loss 0.36246776254847646\n",
      "epoch 158 \t loss 0.36043306975625455\n",
      "epoch 159 \t loss 0.3324296255595982\n",
      "epoch 160 \t loss 0.36635236255824566\n",
      "epoch 161 \t loss 0.43692633137106895\n",
      "epoch 162 \t loss 0.3750197337940335\n",
      "epoch 163 \t loss 0.3323679924942553\n",
      "epoch 164 \t loss 0.31639386317692697\n",
      "epoch 165 \t loss 0.3205415371339768\n",
      "epoch 166 \t loss 0.3010402051731944\n",
      "epoch 167 \t loss 0.294145631371066\n",
      "epoch 168 \t loss 0.30194827797822654\n",
      "epoch 169 \t loss 0.29104184708558023\n",
      "epoch 170 \t loss 0.28113812720403075\n",
      "epoch 171 \t loss 0.2816679875832051\n",
      "epoch 172 \t loss 0.26981125585734844\n",
      "epoch 173 \t loss 0.2732415748760104\n",
      "epoch 174 \t loss 0.26683058962225914\n",
      "epoch 175 \t loss 0.39310743170790374\n",
      "epoch 176 \t loss 0.2904578875750303\n",
      "epoch 177 \t loss 0.27525005710776895\n",
      "epoch 178 \t loss 0.27021862263791263\n",
      "epoch 179 \t loss 0.24301354005001485\n",
      "epoch 180 \t loss 0.2566273820120841\n",
      "epoch 181 \t loss 0.26125169382430613\n",
      "epoch 182 \t loss 0.24285744526423514\n",
      "epoch 183 \t loss 0.34844679897651076\n",
      "epoch 184 \t loss 0.8287123832851648\n",
      "epoch 185 \t loss 1.0785422185435891\n",
      "epoch 186 \t loss 1.282943608239293\n",
      "epoch 187 \t loss 1.8560869693756104\n",
      "epoch 188 \t loss 1.6647937702946365\n",
      "epoch 189 \t loss 1.3906093947589397\n",
      "epoch 190 \t loss 1.2817800156772137\n",
      "epoch 191 \t loss 1.3706177230924368\n",
      "epoch 192 \t loss 0.9610719075426459\n",
      "epoch 193 \t loss 0.6287761172279716\n",
      "epoch 194 \t loss 0.5909337920602411\n",
      "epoch 195 \t loss 0.5867225956171751\n",
      "epoch 196 \t loss 0.5382977616973221\n",
      "epoch 197 \t loss 0.3536936095915735\n",
      "epoch 198 \t loss 0.3107252107001841\n",
      "epoch 199 \t loss 0.28667704621329904\n",
      "epoch 200 \t loss 0.3730227006599307\n",
      "epoch 201 \t loss 0.314705622382462\n",
      "epoch 202 \t loss 0.29268974205479026\n",
      "epoch 203 \t loss 0.2734665859024972\n",
      "epoch 204 \t loss 0.3205735987285152\n",
      "epoch 205 \t loss 0.3002985450439155\n",
      "epoch 206 \t loss 0.2797031388618052\n",
      "epoch 207 \t loss 0.2173924962989986\n",
      "epoch 208 \t loss 0.20646254601888359\n",
      "epoch 209 \t loss 0.2701596386032179\n",
      "epoch 210 \t loss 0.23918155604042113\n",
      "epoch 211 \t loss 0.20913803181611001\n",
      "epoch 212 \t loss 0.193978872615844\n",
      "epoch 213 \t loss 0.19135599420405924\n",
      "epoch 214 \t loss 0.19129762053489685\n",
      "epoch 215 \t loss 0.2895523199113086\n",
      "epoch 216 \t loss 0.3124423131812364\n",
      "epoch 217 \t loss 0.20714801910798997\n",
      "epoch 218 \t loss 0.2023205478908494\n",
      "epoch 219 \t loss 0.19350908393971622\n",
      "epoch 220 \t loss 0.18740891036577523\n",
      "epoch 221 \t loss 0.1823875488480553\n",
      "epoch 222 \t loss 0.1811291944468394\n",
      "epoch 223 \t loss 0.17051597707904875\n",
      "epoch 224 \t loss 0.16811084689106792\n",
      "epoch 225 \t loss 0.16945805749855936\n",
      "epoch 226 \t loss 0.16781557456124574\n",
      "epoch 227 \t loss 0.169046770199202\n",
      "epoch 228 \t loss 0.25584628246724606\n",
      "epoch 229 \t loss 0.24797207745723426\n",
      "epoch 230 \t loss 0.2585810364689678\n",
      "epoch 231 \t loss 0.2788736968068406\n",
      "epoch 232 \t loss 0.22767299297265708\n",
      "epoch 233 \t loss 0.18448126956354827\n",
      "epoch 234 \t loss 0.1721771783195436\n",
      "epoch 235 \t loss 0.23721634747926146\n",
      "epoch 236 \t loss 0.20715088117867708\n",
      "epoch 237 \t loss 0.17950955242849886\n",
      "epoch 238 \t loss 0.1604026787681505\n",
      "epoch 239 \t loss 0.15299519774271175\n",
      "epoch 240 \t loss 0.17703100119251758\n",
      "epoch 241 \t loss 0.9440614043269306\n",
      "epoch 242 \t loss 1.5098380926065147\n",
      "epoch 243 \t loss 2.424005785956979\n",
      "epoch 244 \t loss 3.1681611873209476\n",
      "epoch 245 \t loss 2.389089229516685\n",
      "epoch 246 \t loss 1.8759244177490473\n",
      "epoch 247 \t loss 1.4580930396914482\n",
      "epoch 248 \t loss 1.4789448641240597\n",
      "epoch 249 \t loss 1.55358780734241\n",
      "epoch 250 \t loss 0.9642786509357393\n",
      "epoch 251 \t loss 0.6563667058944702\n",
      "epoch 252 \t loss 0.5060342201031744\n",
      "epoch 253 \t loss 0.41121940687298775\n",
      "epoch 254 \t loss 0.41254584584385157\n",
      "epoch 255 \t loss 0.5097627551294863\n",
      "epoch 256 \t loss 0.43004862894304097\n",
      "epoch 257 \t loss 0.3685374630149454\n",
      "epoch 258 \t loss 0.26518839597702026\n",
      "epoch 259 \t loss 0.3709996771067381\n",
      "epoch 260 \t loss 0.28895738744176924\n",
      "epoch 261 \t loss 0.23464483593124896\n",
      "epoch 262 \t loss 0.200446424074471\n",
      "epoch 263 \t loss 0.19499178230762482\n",
      "epoch 264 \t loss 0.1860989739652723\n",
      "epoch 265 \t loss 0.1899924746248871\n",
      "epoch 266 \t loss 0.18524227302987128\n",
      "epoch 267 \t loss 0.17931393114849925\n",
      "epoch 268 \t loss 0.17522791400551796\n",
      "epoch 269 \t loss 0.16984905709978193\n",
      "epoch 270 \t loss 0.1761079259449616\n",
      "epoch 271 \t loss 0.15795039432123303\n",
      "epoch 272 \t loss 0.15952375531196594\n",
      "epoch 273 \t loss 0.16024285659659654\n",
      "epoch 274 \t loss 0.15392470132792369\n",
      "epoch 275 \t loss 0.15399862953927368\n",
      "epoch 276 \t loss 0.15159312856849283\n",
      "epoch 277 \t loss 0.15250329428818077\n",
      "epoch 278 \t loss 0.15166594670154154\n",
      "epoch 279 \t loss 0.1531776279443875\n",
      "epoch 280 \t loss 0.21493032848229632\n",
      "epoch 281 \t loss 0.1820968999818433\n",
      "epoch 282 \t loss 0.15989403834100813\n",
      "epoch 283 \t loss 0.1919883691589348\n",
      "epoch 284 \t loss 0.16173996136058122\n",
      "epoch 285 \t loss 0.15970456902869046\n",
      "epoch 286 \t loss 0.15250996450777166\n",
      "epoch 287 \t loss 0.14513523213099688\n",
      "epoch 288 \t loss 0.14828794886125252\n",
      "epoch 289 \t loss 0.14682840547175147\n",
      "epoch 290 \t loss 0.13935000263154507\n",
      "epoch 291 \t loss 0.1521078872610815\n",
      "epoch 292 \t loss 0.1950801143539138\n",
      "epoch 293 \t loss 0.16316102672135457\n",
      "epoch 294 \t loss 0.15734058647649363\n",
      "epoch 295 \t loss 0.14738610375206918\n",
      "epoch 296 \t loss 0.1458439080743119\n",
      "epoch 297 \t loss 0.13698038319125772\n",
      "epoch 298 \t loss 0.13435748836491257\n",
      "epoch 299 \t loss 0.13933278480544686\n",
      "epoch 300 \t loss 0.13393515348434448\n",
      "epoch 301 \t loss 0.1348717388464138\n",
      "epoch 302 \t loss 0.13342357869260013\n",
      "epoch 303 \t loss 0.13576412107795477\n",
      "epoch 304 \t loss 0.13598997908411548\n",
      "epoch 305 \t loss 0.13364357920363545\n",
      "epoch 306 \t loss 0.13448001036886126\n",
      "epoch 307 \t loss 0.13474928186042234\n",
      "epoch 308 \t loss 0.13704932772088796\n",
      "epoch 309 \t loss 0.13364655087934807\n",
      "epoch 310 \t loss 0.1380663110758178\n",
      "epoch 311 \t loss 0.1304858080111444\n",
      "epoch 312 \t loss 0.1316436199704185\n",
      "epoch 313 \t loss 0.1312141104717739\n",
      "epoch 314 \t loss 0.13057564647169784\n",
      "epoch 315 \t loss 0.13185695017455146\n",
      "epoch 316 \t loss 0.1310314845177345\n",
      "epoch 317 \t loss 0.13243159395642579\n",
      "epoch 318 \t loss 0.13426969095598906\n",
      "epoch 319 \t loss 0.12796077676466666\n",
      "epoch 320 \t loss 0.12905197904910892\n",
      "epoch 321 \t loss 0.12707183323800564\n",
      "epoch 322 \t loss 0.12665274512255564\n",
      "epoch 323 \t loss 0.12970474071335047\n",
      "epoch 324 \t loss 0.12648434442235157\n",
      "epoch 325 \t loss 0.12872523837722838\n",
      "epoch 326 \t loss 0.1260350734810345\n",
      "epoch 327 \t loss 0.12943227839423344\n",
      "epoch 328 \t loss 0.13479422251111828\n",
      "epoch 329 \t loss 0.12153649562969804\n",
      "epoch 330 \t loss 0.12812329264124855\n",
      "epoch 331 \t loss 0.1334948736766819\n",
      "epoch 332 \t loss 0.12551618699217215\n",
      "epoch 333 \t loss 0.13025624144938774\n",
      "epoch 334 \t loss 0.12760598643217236\n",
      "epoch 335 \t loss 0.12494769363547675\n",
      "epoch 336 \t loss 0.13309183742967434\n",
      "epoch 337 \t loss 0.12880992732243612\n",
      "epoch 338 \t loss 0.12449043852393515\n",
      "epoch 339 \t loss 0.12453404281404801\n",
      "epoch 340 \t loss 0.12250640688580461\n",
      "epoch 341 \t loss 0.12213144663837738\n",
      "epoch 342 \t loss 0.12513618500088342\n",
      "epoch 343 \t loss 0.12265211853082292\n",
      "epoch 344 \t loss 0.12371626528329216\n",
      "epoch 345 \t loss 0.12524554587434977\n",
      "epoch 346 \t loss 0.12219803794869222\n",
      "epoch 347 \t loss 0.1237890628981404\n",
      "epoch 348 \t loss 0.12902487471001223\n",
      "epoch 349 \t loss 0.12339937474462204\n",
      "epoch 350 \t loss 0.12119499998516403\n",
      "epoch 351 \t loss 0.11913943190302234\n",
      "epoch 352 \t loss 0.12196091547957622\n",
      "epoch 353 \t loss 0.1219172884884756\n",
      "epoch 354 \t loss 0.12324085287400521\n",
      "epoch 355 \t loss 0.12502972938818857\n",
      "epoch 356 \t loss 0.13041838552453555\n",
      "epoch 357 \t loss 0.11695473027066328\n",
      "epoch 358 \t loss 0.1265152306004893\n",
      "epoch 359 \t loss 0.1203385412809439\n",
      "epoch 360 \t loss 0.11960445457953028\n",
      "epoch 361 \t loss 0.12526442474336363\n",
      "epoch 362 \t loss 0.11865639613824897\n",
      "epoch 363 \t loss 0.12299039412755519\n",
      "epoch 364 \t loss 0.12162236793665215\n",
      "epoch 365 \t loss 0.12344080352340825\n",
      "epoch 366 \t loss 0.11773502244614065\n",
      "epoch 367 \t loss 0.1246778862841893\n",
      "epoch 368 \t loss 0.1848013042472303\n",
      "epoch 369 \t loss 0.14861792052397504\n",
      "epoch 370 \t loss 0.1368835961620789\n",
      "epoch 371 \t loss 0.11727582145249471\n",
      "epoch 372 \t loss 0.1198013965622522\n",
      "epoch 373 \t loss 0.12111536390148103\n",
      "epoch 374 \t loss 0.11874829838052392\n",
      "epoch 375 \t loss 0.11901767281233333\n",
      "epoch 376 \t loss 0.12098222185159102\n",
      "epoch 377 \t loss 0.11753757452970603\n",
      "epoch 378 \t loss 0.11791313510912005\n",
      "epoch 379 \t loss 0.11926521109126043\n",
      "epoch 380 \t loss 0.11934495661989786\n",
      "epoch 381 \t loss 0.1216434738598764\n",
      "epoch 382 \t loss 0.11943325665197335\n",
      "epoch 383 \t loss 0.11584468340151943\n"
     ]
    }
   ],
   "source": [
    "min_loss = 1.0\n",
    "losses = []\n",
    "for epoch in range(1000):\n",
    "    all_loss = 0\n",
    "    title_batch, category_batch = train2batch(train_x, train_y)\n",
    "    for i in range(len(title_batch)):\n",
    "        batch_loss = 0\n",
    "\n",
    "        model.zero_grad()\n",
    "\n",
    "        # 順伝搬させるtensorはGPUで処理させるためdevice=にGPUをセット\n",
    "        title_tensor = torch.tensor(title_batch[i], device=device)\n",
    "        # category_tensor.size() = (batch_size × 1)なので、squeeze()\n",
    "        category_tensor = torch.tensor(category_batch[i], device=device).squeeze()\n",
    "\n",
    "        out = model(title_tensor)\n",
    "\n",
    "        batch_loss = loss_function(out, category_tensor)\n",
    "        batch_loss.backward()\n",
    "        optimizer.step()\n",
    "\n",
    "        all_loss += batch_loss.item()\n",
    "        if min_loss > all_loss:\n",
    "            model.save(save_m_path)\n",
    "\n",
    "    print(\"epoch\", epoch, \"\\t\" , \"loss\", all_loss)\n",
    "    if all_loss < 0.01: break\n",
    "print(\"done.\")"
   ]
  },
  {
   "cell_type": "markdown",
   "metadata": {},
   "source": [
    "___"
   ]
  },
  {
   "cell_type": "code",
   "execution_count": null,
   "metadata": {
    "id": "BaNbXi43YgUT"
   },
   "outputs": [],
   "source": [
    "test_num = len(test_x)\n",
    "a = 0\n",
    "with torch.no_grad():\n",
    "    title_batch, category_batch = train2batch(test_x, test_y)\n",
    "\n",
    "    for i in range(len(title_batch)):\n",
    "        title_tensor = torch.tensor(title_batch[i], device=device)\n",
    "        category_tensor = torch.tensor(category_batch[i], device=device)\n",
    "\n",
    "        out = model(title_tensor)\n",
    "        _, predicts = torch.max(out, 1)\n",
    "        for j, ans in enumerate(category_tensor):\n",
    "            if predicts[j].item() == ans.item():\n",
    "                a += 1\n",
    "#             else:\n",
    "#                 print(predicts[j].item(), ans.item())\n",
    "print(\"predict : \", a / test_num)\n",
    "# predict :  0.6967916854948034"
   ]
  },
  {
   "cell_type": "markdown",
   "metadata": {},
   "source": [
    "___"
   ]
  },
  {
   "cell_type": "code",
   "execution_count": null,
   "metadata": {},
   "outputs": [],
   "source": []
  },
  {
   "cell_type": "markdown",
   "metadata": {
    "id": "7g1evcaRpTKm"
   },
   "source": [
    "## 2つ以上の LSTM レイヤーを重ねる\n",
    "\n",
    "Keras のリカレントレイヤーには、コンストラクタの `return_sequences` 引数でコントロールされる2つのモードがあります。\n",
    "\n",
    "* それぞれのタイムステップの連続した出力のシーケンス全体（shape が `(batch_size, timesteps, output_features)` の3階テンソル）を返す。\n",
    "* それぞれの入力シーケンスの最後の出力だけ（shape が `(batch_size, output_features)` の2階テンソル）を返す。"
   ]
  },
  {
   "cell_type": "code",
   "execution_count": null,
   "metadata": {
    "id": "jo1jjO3vn0jo"
   },
   "outputs": [],
   "source": [
    "model = tf.keras.Sequential([\n",
    "    tf.keras.layers.Embedding(encoder.vocab_size, 64),\n",
    "    tf.keras.layers.Bidirectional(tf.keras.layers.LSTM(64,  return_sequences=True)),\n",
    "    tf.keras.layers.Bidirectional(tf.keras.layers.LSTM(32)),\n",
    "    tf.keras.layers.Dense(64, activation='relu'),\n",
    "    tf.keras.layers.Dropout(0.5),\n",
    "    tf.keras.layers.Dense(1)\n",
    "])"
   ]
  },
  {
   "cell_type": "code",
   "execution_count": null,
   "metadata": {
    "id": "hEPV5jVGp-is"
   },
   "outputs": [],
   "source": [
    "model.compile(loss=tf.keras.losses.BinaryCrossentropy(from_logits=True),\n",
    "              optimizer=tf.keras.optimizers.Adam(1e-4),\n",
    "              metrics=['accuracy'])"
   ]
  },
  {
   "cell_type": "code",
   "execution_count": null,
   "metadata": {
    "id": "LeSE-YjdqAeN"
   },
   "outputs": [],
   "source": [
    "history = model.fit(train_dataset, epochs=10,\n",
    "                    validation_data=test_dataset,\n",
    "                    validation_steps=30)"
   ]
  },
  {
   "cell_type": "code",
   "execution_count": null,
   "metadata": {
    "id": "_LdwilM1qPM3"
   },
   "outputs": [],
   "source": [
    "test_loss, test_acc = model.evaluate(test_dataset)\n",
    "\n",
    "print('Test Loss: {}'.format(test_loss))\n",
    "print('Test Accuracy: {}'.format(test_acc))"
   ]
  },
  {
   "cell_type": "code",
   "execution_count": null,
   "metadata": {
    "id": "ykUKnAoqbycW"
   },
   "outputs": [],
   "source": [
    "# パディングなしのサンプルテキストの推論\n",
    "\n",
    "sample_pred_text = ('The movie was not good. The animation and the graphics '\n",
    "                    'were terrible. I would not recommend this movie.')\n",
    "predictions = sample_predict(sample_pred_text, pad=False)\n",
    "print(predictions)"
   ]
  },
  {
   "cell_type": "code",
   "execution_count": null,
   "metadata": {
    "id": "2RiC-94zvdZO"
   },
   "outputs": [],
   "source": [
    "# パディングありのサンプルテキストの推論\n",
    "\n",
    "sample_pred_text = ('The movie was not good. The animation and the graphics '\n",
    "                    'were terrible. I would not recommend this movie.')\n",
    "predictions = sample_predict(sample_pred_text, pad=True)\n",
    "print(predictions)"
   ]
  },
  {
   "cell_type": "code",
   "execution_count": null,
   "metadata": {
    "id": "_YYub0EDtwCu"
   },
   "outputs": [],
   "source": [
    "plot_graphs(history, 'accuracy')"
   ]
  },
  {
   "cell_type": "code",
   "execution_count": null,
   "metadata": {
    "id": "DPV3Nn9xtwFM"
   },
   "outputs": [],
   "source": [
    "plot_graphs(history, 'loss')"
   ]
  },
  {
   "cell_type": "markdown",
   "metadata": {
    "id": "9xvpE3BaGw_V"
   },
   "source": [
    "[GRU レイヤー](https://www.tensorflow.org/api_docs/python/tf/keras/layers/GRU)など既存のほかのレイヤーを調べてみましょう。\n",
    "\n",
    "カスタム RNN の構築に興味があるのであれば、[Keras RNN ガイド](../../guide/keras/rnn.ipynb) を参照してください。"
   ]
  },
  {
   "cell_type": "code",
   "execution_count": null,
   "metadata": {},
   "outputs": [],
   "source": []
  },
  {
   "cell_type": "code",
   "execution_count": null,
   "metadata": {},
   "outputs": [],
   "source": []
  },
  {
   "cell_type": "code",
   "execution_count": null,
   "metadata": {},
   "outputs": [],
   "source": []
  }
 ],
 "metadata": {
  "accelerator": "GPU",
  "colab": {
   "collapsed_sections": [],
   "name": "text_classification_rnn.ipynb",
   "toc_visible": true
  },
  "kernelspec": {
   "display_name": "Python 3",
   "language": "python",
   "name": "python3"
  },
  "language_info": {
   "codemirror_mode": {
    "name": "ipython",
    "version": 3
   },
   "file_extension": ".py",
   "mimetype": "text/x-python",
   "name": "python",
   "nbconvert_exporter": "python",
   "pygments_lexer": "ipython3",
   "version": "3.6.9"
  },
  "metadata": {
   "interpreter": {
    "hash": "089bc7a4b5bcca8ded8f56dd6d31f99db98f335bd2546ffdf0f141ab8351be05"
   }
  }
 },
 "nbformat": 4,
 "nbformat_minor": 4
}
